{
 "cells": [
  {
   "cell_type": "code",
   "execution_count": 353,
   "metadata": {},
   "outputs": [],
   "source": [
    "import pandas as pd\n",
    "import numpy as np\n",
    "import matplotlib.pyplot as plt\n",
    "import requests\n",
    "from bs4 import BeautifulSoup\n",
    "import re\n",
    "import plotly.express as px\n"
   ]
  },
  {
   "cell_type": "code",
   "execution_count": 354,
   "metadata": {},
   "outputs": [
    {
     "data": {
      "text/html": [
       "<div>\n",
       "<style scoped>\n",
       "    .dataframe tbody tr th:only-of-type {\n",
       "        vertical-align: middle;\n",
       "    }\n",
       "\n",
       "    .dataframe tbody tr th {\n",
       "        vertical-align: top;\n",
       "    }\n",
       "\n",
       "    .dataframe thead th {\n",
       "        text-align: right;\n",
       "    }\n",
       "</style>\n",
       "<table border=\"1\" class=\"dataframe\">\n",
       "  <thead>\n",
       "    <tr style=\"text-align: right;\">\n",
       "      <th></th>\n",
       "      <th>Rank</th>\n",
       "      <th>Justice</th>\n",
       "      <th>Lengthin days</th>\n",
       "      <th>Lengthin years and days</th>\n",
       "      <th>Start date[3]</th>\n",
       "      <th>End date[3]</th>\n",
       "    </tr>\n",
       "  </thead>\n",
       "  <tbody>\n",
       "    <tr>\n",
       "      <th>7</th>\n",
       "      <td>8</td>\n",
       "      <td>William Rehnquist (CJ)</td>\n",
       "      <td>12,293[D]</td>\n",
       "      <td>33 years, 239 days</td>\n",
       "      <td>January 7, 1972 September 26, 1986</td>\n",
       "      <td>September 26, 1986 September 3, 2005</td>\n",
       "    </tr>\n",
       "    <tr>\n",
       "      <th>23</th>\n",
       "      <td>24</td>\n",
       "      <td>Edward Douglass White (CJ)</td>\n",
       "      <td>9,929[E]</td>\n",
       "      <td>27 years, 68 days</td>\n",
       "      <td>March 12, 1894 December 19, 1910</td>\n",
       "      <td>December 19, 1910 May 19, 1921</td>\n",
       "    </tr>\n",
       "    <tr>\n",
       "      <th>39</th>\n",
       "      <td>40</td>\n",
       "      <td>Harlan F. Stone (CJ)</td>\n",
       "      <td>7,721[F]</td>\n",
       "      <td>21 years, 51 days</td>\n",
       "      <td>March 2, 1925 July 3, 1941</td>\n",
       "      <td>July 2, 1941 April 22, 1946</td>\n",
       "    </tr>\n",
       "    <tr>\n",
       "      <th>52</th>\n",
       "      <td>53</td>\n",
       "      <td>Charles Evans Hughes (CJ)</td>\n",
       "      <td>6,214[G]</td>\n",
       "      <td>17 years, 5 days</td>\n",
       "      <td>October 10, 1910 February 24, 1930</td>\n",
       "      <td>June 10, 1916 June 30, 1941</td>\n",
       "    </tr>\n",
       "    <tr>\n",
       "      <th>112</th>\n",
       "      <td>113</td>\n",
       "      <td>John Rutledge (CJ)</td>\n",
       "      <td>521[H]</td>\n",
       "      <td>1 year, 156 days</td>\n",
       "      <td>February 15, 1790 August 12, 1795</td>\n",
       "      <td>March 5, 1791 December 28, 1795</td>\n",
       "    </tr>\n",
       "  </tbody>\n",
       "</table>\n",
       "</div>"
      ],
      "text/plain": [
       "    Rank                     Justice Lengthin days Lengthin years and days  \\\n",
       "7      8      William Rehnquist (CJ)     12,293[D]      33 years, 239 days   \n",
       "23    24  Edward Douglass White (CJ)      9,929[E]       27 years, 68 days   \n",
       "39    40        Harlan F. Stone (CJ)      7,721[F]       21 years, 51 days   \n",
       "52    53   Charles Evans Hughes (CJ)      6,214[G]        17 years, 5 days   \n",
       "112  113          John Rutledge (CJ)        521[H]        1 year, 156 days   \n",
       "\n",
       "                          Start date[3]                           End date[3]  \n",
       "7    January 7, 1972 September 26, 1986  September 26, 1986 September 3, 2005  \n",
       "23     March 12, 1894 December 19, 1910        December 19, 1910 May 19, 1921  \n",
       "39           March 2, 1925 July 3, 1941           July 2, 1941 April 22, 1946  \n",
       "52   October 10, 1910 February 24, 1930           June 10, 1916 June 30, 1941  \n",
       "112   February 15, 1790 August 12, 1795       March 5, 1791 December 28, 1795  "
      ]
     },
     "execution_count": 354,
     "metadata": {},
     "output_type": "execute_result"
    }
   ],
   "source": [
    "pandas_wiki_df = pd.read_html('https://en.wikipedia.org/wiki/List_of_United_States_Supreme_Court_justices_by_time_in_office')[1]\n",
    "date_errors = pandas_wiki_df[pd.to_datetime(pandas_wiki_df[pandas_wiki_df.columns[4]], errors=\"coerce\").isna()]\n",
    "date_errors\n",
    "# pandas_wiki_df[pd.to_datetime(pandas_wiki_df[pandas_wiki_df.columns[4]], errors=\"coerce\").isna()==False]"
   ]
  },
  {
   "cell_type": "code",
   "execution_count": 355,
   "metadata": {},
   "outputs": [],
   "source": [
    "url = 'https://en.wikipedia.org/wiki/List_of_United_States_Supreme_Court_justices_by_time_in_office'\n",
    "r = requests.get(url)\n",
    "soup = BeautifulSoup(r.content, 'html.parser')\n",
    "table = soup.find( \"table\", {\"id\":\"justices\"} )\n",
    "# table"
   ]
  },
  {
   "cell_type": "code",
   "execution_count": 356,
   "metadata": {},
   "outputs": [
    {
     "data": {
      "text/html": [
       "<div>\n",
       "<style scoped>\n",
       "    .dataframe tbody tr th:only-of-type {\n",
       "        vertical-align: middle;\n",
       "    }\n",
       "\n",
       "    .dataframe tbody tr th {\n",
       "        vertical-align: top;\n",
       "    }\n",
       "\n",
       "    .dataframe thead th {\n",
       "        text-align: right;\n",
       "    }\n",
       "</style>\n",
       "<table border=\"1\" class=\"dataframe\">\n",
       "  <thead>\n",
       "    <tr style=\"text-align: right;\">\n",
       "      <th></th>\n",
       "      <th>name</th>\n",
       "      <th>url</th>\n",
       "    </tr>\n",
       "  </thead>\n",
       "  <tbody>\n",
       "    <tr>\n",
       "      <th>0</th>\n",
       "      <td>William O. Douglas</td>\n",
       "      <td>/wiki/William_O._Douglas</td>\n",
       "    </tr>\n",
       "    <tr>\n",
       "      <th>1</th>\n",
       "      <td>Stephen Johnson Field</td>\n",
       "      <td>/wiki/Stephen_Johnson_Field</td>\n",
       "    </tr>\n",
       "    <tr>\n",
       "      <th>2</th>\n",
       "      <td>John Paul Stevens</td>\n",
       "      <td>/wiki/John_Paul_Stevens</td>\n",
       "    </tr>\n",
       "    <tr>\n",
       "      <th>3</th>\n",
       "      <td>John Marshall   (CJ)</td>\n",
       "      <td>/wiki/John_Marshall</td>\n",
       "    </tr>\n",
       "    <tr>\n",
       "      <th>4</th>\n",
       "      <td>Hugo Black</td>\n",
       "      <td>/wiki/Hugo_Black</td>\n",
       "    </tr>\n",
       "    <tr>\n",
       "      <th>...</th>\n",
       "      <td>...</td>\n",
       "      <td>...</td>\n",
       "    </tr>\n",
       "    <tr>\n",
       "      <th>110</th>\n",
       "      <td>Robert Trimble</td>\n",
       "      <td>/wiki/Robert_Trimble</td>\n",
       "    </tr>\n",
       "    <tr>\n",
       "      <th>111</th>\n",
       "      <td>Amy Coney Barrett</td>\n",
       "      <td>/wiki/Amy_Coney_Barrett</td>\n",
       "    </tr>\n",
       "    <tr>\n",
       "      <th>112</th>\n",
       "      <td>John Rutledge   (CJ)</td>\n",
       "      <td>/wiki/John_Rutledge</td>\n",
       "    </tr>\n",
       "    <tr>\n",
       "      <th>113</th>\n",
       "      <td>Thomas Johnson</td>\n",
       "      <td>/wiki/Thomas_Johnson_(jurist)</td>\n",
       "    </tr>\n",
       "    <tr>\n",
       "      <th>114</th>\n",
       "      <td>James F. Byrnes</td>\n",
       "      <td>/wiki/James_F._Byrnes</td>\n",
       "    </tr>\n",
       "  </tbody>\n",
       "</table>\n",
       "<p>115 rows × 2 columns</p>\n",
       "</div>"
      ],
      "text/plain": [
       "                      name                            url\n",
       "0       William O. Douglas       /wiki/William_O._Douglas\n",
       "1    Stephen Johnson Field    /wiki/Stephen_Johnson_Field\n",
       "2        John Paul Stevens        /wiki/John_Paul_Stevens\n",
       "3     John Marshall   (CJ)            /wiki/John_Marshall\n",
       "4               Hugo Black               /wiki/Hugo_Black\n",
       "..                     ...                            ...\n",
       "110         Robert Trimble           /wiki/Robert_Trimble\n",
       "111      Amy Coney Barrett        /wiki/Amy_Coney_Barrett\n",
       "112   John Rutledge   (CJ)            /wiki/John_Rutledge\n",
       "113         Thomas Johnson  /wiki/Thomas_Johnson_(jurist)\n",
       "114        James F. Byrnes          /wiki/James_F._Byrnes\n",
       "\n",
       "[115 rows x 2 columns]"
      ]
     },
     "execution_count": 356,
     "metadata": {},
     "output_type": "execute_result"
    }
   ],
   "source": [
    "justices_tr = table.findAll(\"tr\")[1:]\n",
    "\n",
    "justice_name = []\n",
    "justice_url = []\n",
    "justice_term_start = []\n",
    "justice_term_end = []\n",
    "\n",
    "for justice in justices_tr:\n",
    "    justice_str = justice.find_all('td')\n",
    "    justice_name.append(justice_str[1].text)\n",
    "\n",
    "    justiceurl = justice.find('a').get('href')\n",
    "    justice_url.append(justiceurl)\n",
    "    \n",
    "    # justice_ts = justice.find_all('td')\n",
    "    # justice_term_start.append(justice_ts[4].text)\n",
    "\n",
    "    # justice_te = justice.find_all('td')\n",
    "    # justice_term_end.append(justice_te[5].text)\n",
    "\n",
    "justice_wiki_link_id = pd.DataFrame({\n",
    "                                    'name': justice_name,\n",
    "                                    'url': justice_url,\n",
    "                    # 'term_start': justice_term_start,\n",
    "                    # 'term_end':justice_term_end\n",
    "                    })\n",
    "justice_wiki_link_id "
   ]
  },
  {
   "cell_type": "code",
   "execution_count": 357,
   "metadata": {},
   "outputs": [
    {
     "name": "stdout",
     "output_type": "stream",
     "text": [
      "['death_date = {{death date and age', '1980', '1', '19', '1898', '10', '16}}']\n",
      "['death_date      = {{death date and age', '1899', '4', '9', '1816', '11', '4}}']\n",
      "['death_date          = {{Death date and age', '2019', '07', '16', '1920', '04', '20}}']\n",
      "['death_date = {{death date and age', '1835', '7', '6', '1755', '9', '24}}']\n",
      "['death_date   = {{nowrap', '{{death date and age', '1971', '9', '25', '1886', '2', '27}}']\n",
      "['death_date    = {{death date and age', '1911', '10', '14', '1833', '6', '1}}']\n",
      "['death_date          = {{death date and age', '1997', '7', '24', '1906', '4', '25}}']\n",
      "['death_date   = {{nowrap', '{{death date and age', '2005', '9', '3', '1924', '10', '1}}']\n",
      "['death_date   = {{nowrap', '{{death date and age', '1845', '9', '10', '1779', '9', '18}}']\n",
      "James_Moore_Wayne\n",
      "['death_date   = {{death date and age', '1861', '4', '4', '1785', '3', '11}}']\n",
      "['death_date          = {{death date and age', '2002', '4', '15', '1917', '6', '8}}']\n",
      "['death_date          = {{nowrap', '{{death date and age', '1829', '11', '26  ', '1762', '6', '5}}']\n",
      "['death_date          = {{death date and age', '1834', '8', '4', '1771', '12', '27}}']\n",
      "['death_date          = {{Death date and age', '2016', '2', '13', '1936', '3', '11}}']\n",
      "['death_date          = {{death date and age', '1935', '3', '6', '1841', '3', '8}}']\n",
      "['death_date          = {{death date and age', '1864', '10', '12', '1777', '3', '17}}']\n",
      "['death_date  = {{death date and age', '1890', '10', '13', '1816', '4', '5}}']\n",
      "['death_date  = {{death date and age', '1865', '5', '30', '1786', '1', '7}}']\n",
      "['death_date   = {{nowrap', '{{death date and age', '1873', '12', '13', '1792', '11', '10}}']\n",
      "['death_date          = {{death date and age', '1921', '5', '19', '1845', '11', '3}}']\n",
      "['death_date          = {{Death date and age', '2020', '09', '18', '1933', '03', '15}}']\n",
      "['death_date   = {{nowrap', '{{death date and age', '1926', '11', '21', '1843', '8', '10}}']\n",
      "['death_date          = {{death date and age', '1941', '2', '8', '1859', '4', '17}}']\n",
      "['death_date   = {{death date and age', '1946', '8', '24', '1862', '2', '3}}']\n",
      "['death_date       = {{Death date and age', '1999', '03', '04', '1908', '11', '12}}']\n",
      "['death_date   = {{death date and age', '1993', '1', '24', '1908', '7', '2}}']\n",
      "['death_date  = {{death date and age', '1965', '2', '22', '1882', '11', '15}}']\n",
      "['death_date          = {{death date and age', '1881', '7', '25', '1803', '8', '18}}']\n",
      "['death_date  = {{nowrap', '{{death date and age', '1870', '9', '25', '1794', '3', '5}}']\n",
      "['death_date   = {{death date and age', '1844', '3', '6', '1752', '12', '6}}']\n",
      "['death_date    = {{Death date and age', '1985', '12', '07', '1915', '01', '23}}']\n",
      "['death_date  = {{death date and age', '1941', '10', '5', '1856', '11', '13}}']\n",
      "['death_date  = {{death date and age', '1892', '1', '22', '1813', '3', '14}}']\n",
      "['death_date    = {{death date and age', '1910', '7', '4', '1833', '2', '11}}']\n",
      "['death_date   = {{death date and age', '1946', '4', '22', '1872', '10', '11}}']\n",
      "['death_date          = {{nowrap', '{{death date and age', '1902', '9', '15', '1828', '3', '24}}']\n",
      "['death_date  = {{death date and age', '1810', '9', '13', '1732', '3', '1}}']\n",
      "['death_date   = {{death date and age', '1843', '12', '18', '1768', '1', '17}}']\n",
      "David_Josiah_Brewer\n",
      "['death_date    = {{Death date and age', '1923', '07', '09', '1849', '04', '17}}']\n",
      "['death_date          = {{death date and age', '1980', '4', '2', '1884', '12', '31}}']\n",
      "['death_date  = {{death date and age', '1884', '6', '8', '1804', '12', '7}}']\n",
      "['death_date    = {{death date and age', '1826', '2', '7', '1765', '1', '23}}']\n",
      "['death_date   = {{death date and age', '1860', '5', '31', '1784', '4', '24}}']\n",
      "['death_date   = {{death date and age', '1977', '6', '13', '1899', '9', '23}}']\n",
      "['death_date    = {{death date and age', '1995', '6', '25', '1907', '9', '17}}']\n",
      "['death_date          = {{death date and age', '1948', '8', '27', '1862', '4', '11}}']\n",
      "['death_date  = {{death date and age', '1939', '11', '16', '1866', '3', '17}}']\n",
      "['death_date          = {{Death date and age', '1971', '12', '29', '1899', '05', '20}}']\n",
      "['death_date  = {{death date and age', '1823', '3', '18', '1757', '11', '25}}']\n",
      "['death_date          = {{death date and age', '1974', '7', '9', '1891', '3', '19}}']\n",
      "['death_date          = {{death date and age', '1998', '8', '25', '1907', '9', '19}}']\n",
      "['death_date   = {{death date and age', '1913', '9', '4', '1836', '3', '2}}']\n",
      "['death_date  = {{death date and age', '1811', '6', '19', '1741', '4', '17}}']\n",
      "['death_date   = {{death date and age', '1942', '7', '18', '1862', '3', '25}}']\n",
      "['death_date  = {{death date and age', '1955', '5', '17', '1875', '5', '2}}']\n",
      "['death_date   = {{death date and age', '1852', '7', '19', '1780', '5', '1}}']\n",
      "['death_date          = {{death date and age', '1844', '4', '21', '1780', '1', '14}}']\n",
      "['death_date   = {{death date and age', '1886', '6', '26', '1815', '3', '9}}']\n",
      "['death_date  = {{death date and age', '1888', '3', '23', '1816', '11', '29}}']\n",
      "['death_date  = {{death date and age', '1909', '10', '24', '1838', '11', '8}}']\n",
      "['death_date   = {{nowrap', '{{death date and age', '1806', '9', '9', '1745', '12', '24}}']\n",
      "['death_date   = {{death date and age', '1954', '10', '9', '1892', '2', '13}}']\n",
      "['death_date   = {{death date and age', '1964', '10', '28', '1888', '6', '22}}']\n",
      "['death_date   = {{death date and age', '1893', '7', '7', '1820', '3', '9}}']\n",
      "['death_date   = {{death date and age', '1924', '12', '9', '1858', '2', '5}}']\n",
      "['death_date   = {{death date and age', '1895', '8', '19', '1808', '5', '6}}']\n",
      "['death_date  = {{death date and age', '1924', '8', '2', '1832', '1', '26}}']\n",
      "['death_date    = {{death date and age', '1949', '7', '19', '1890', '4', '13}}']\n",
      "['death_date   = {{death date and age', '1799', '10', '20', '1751', '10', '5}}']\n",
      "['death_date   = {{death date and age', '1886', '3', '24', '1810', '6', '14}}']\n",
      "James_Wilson_(justice)\n",
      "['death_date          = {{death date and age', '1930', '3', '8', '1857', '9', '15}}']\n",
      "['death_date          = {{death date and age', '1873', '5', '7', '1808', '1', '13}}']\n",
      "['death_date  = {{death date and age', '1889', '3', '12', '1811', '6', '24}}']\n",
      "['death_date   = {{death date and age', '1889', '3', '22', '1824', '7', '21}}']\n",
      "['death_date    = {{Death date and age', '1953', '9', '8', '1890', '1', '22}}']\n",
      "['death_date    = {{Death date and age', '1930', '03', '08', '1865', '07', '23}}']\n",
      "['death_date    = {{Death date and age', '1965', '04', '09', '1890', '10', '20}}']\n",
      "Wiley_Blount_Rutledge\n",
      "['death_date   = {{death date and age', '1887', '5', '14', '1824', '8', '3}}']\n",
      "['death_date   = {{death date and age', '1938', '7', '9', '1870', '5', '24}}']\n",
      "['death_date  = {{nowrap', '{{death date and age', '1874', '9', '15', '1809', '11', '4}}']\n",
      "['death_date   = {{death date and age', '1851', '9', '4', '1789', '12', '22}}']\n",
      "['death_date   = {{death date and age', '1945', '3', '22', '1857', '9', '18}}']\n",
      "['death_date         = {{death date and age', '1800', '8', '31', '1732', '4', '17}}']\n",
      "['death_date          = {{Death date and age', '1829', '05', '17', '1745', '12', '12}}']\n",
      "['death_date   = {{death date and age', '1893', '1', '23', '1825', '9', '17}}']\n",
      "['death_date       = {{Death date and age', '1973', '11', '26', '1901', '02', '11}}']\n",
      "['death_date  = {{death date and age', '1916', '1', '2', '1857', '10', '15}}']\n",
      "['death_date   = {{death date and age', '1841', '2', '25', '1783', '5', '25}}']\n",
      "['death_date   = {{death date and age', '1807', '11', '26', '1745', '4', '29}}']\n",
      "['death_date    = {{Death date and age', '1914', '07', '12', '1844', '02', '26}}']\n",
      "['death_date   = {{death date and age', '1917', '7', '2', '1853', '12', '23}}']\n",
      "['death_date   = {{death date and age', '1810', '10', '15', '1755', '5', '21}}']\n",
      "['death_date         = {{death date and age', '1982', '4', '5', '1910', '6', '19}}']\n",
      "['death_date   = {{Death date and age', '1990', '1', '19', '1908', '8', '8}}']\n",
      "['death_date    = {{Death date and age', '1895', '08', '08', '1832', '04', '08}}']\n",
      "['death_date    = {{Death date and age', '1828', '08', '25', '1776', '11', '17}}']\n",
      "['death_date   = {{death date and age', '1800', '6', '21', '1739', '9', '17', '}}']\n",
      "['death_date   = {{death date and age', '1819', '10', '26', '1732', '11', '4}}']\n",
      "['death_date   = {{death date and age', '1972', '4', '9', '1882', '5', '2}}']\n"
     ]
    }
   ],
   "source": [
    "urls = []\n",
    "b_year = []\n",
    "b_month = []\n",
    "b_day = []\n",
    "d_year = []\n",
    "d_month = []\n",
    "d_day = []\n",
    "\n",
    "\n",
    "def get_birth_death(justice_url):\n",
    "    try:\n",
    "        url = 'https://en.wikipedia.org/w/api.php?action=query&prop=revisions&rvprop=content&rvsection=0&titles='+justice_url.replace(\"/wiki/\", \"\")+'&format=xml'\n",
    "        res = requests.get(url) \n",
    "        soup = BeautifulSoup(res.text, 'xml')\n",
    "        \n",
    "        urls.append(justice_url)\n",
    "        # print(justice_url.replace(\"/wiki/\", \"\"))\n",
    "\n",
    "        birth_re = re.search(r'(birth_date(.*?)}})', soup.getText())\n",
    "        birth_data = birth_re.group(0).split('|')\n",
    "        birth_year = birth_data[1]\n",
    "        b_year.append(birth_year)\n",
    "\n",
    "        birth_month = birth_data[2]\n",
    "        b_month.append(birth_month)\n",
    "\n",
    "        birth_day = birth_data[3].replace(r\"}}\", \"\")\n",
    "        b_day.append(birth_day)\n",
    "\n",
    "        try:\n",
    "            death_re = re.search(r'(death_date(.*?)}})', soup.getText())\n",
    "            death_data = death_re.group(0).split('|')\n",
    "            print(death_data)\n",
    "\n",
    "            if death_data[0] > death_data[4]:\n",
    "                death_year = death_data[1]\n",
    "                d_year.append(death_year)\n",
    "\n",
    "                death_month = death_data[2]\n",
    "                d_month.append(death_month)\n",
    "\n",
    "                death_day = death_data[3]\n",
    "                d_day.append(death_day)\n",
    "            else:\n",
    "                death_year = death_data[4]\n",
    "                d_year.append(death_year)\n",
    "\n",
    "                death_month = death_data[5]\n",
    "                d_month.append(death_month)\n",
    "\n",
    "                death_day = death_data[6]\n",
    "                d_day.append(death_day)\n",
    "        except:\n",
    "            d_year.append(np.nan)\n",
    "            d_month.append(np.nan)\n",
    "            d_day.append(np.nan)\n",
    "\n",
    "    except:\n",
    "        print(justice_url.replace(\"/wiki/\", \"\"))\n",
    "        b_year.append(np.nan)\n",
    "        b_month.append(np.nan)\n",
    "        b_day.append(np.nan)\n",
    "        d_year.append(np.nan)\n",
    "        d_month.append(np.nan)\n",
    "        d_day.append(np.nan)\n",
    "\n",
    "for url in justice_wiki_link_id['url']:\n",
    "    get_birth_death(url)\n",
    "\n"
   ]
  },
  {
   "cell_type": "code",
   "execution_count": 358,
   "metadata": {},
   "outputs": [],
   "source": [
    "birth_death_table = pd.DataFrame({\n",
    "                                'urls': urls,\n",
    "                                'b_year': b_year,\n",
    "                                'b_month': b_month,\n",
    "                                'b_day': b_day,\n",
    "                                'd_year': d_year,\n",
    "                                'd_month': d_month,\n",
    "                                'd_day': d_day\n",
    "                                })\n",
    "birth_death_table['b_date'] = pd.to_datetime(birth_death_table['b_year']+\"-\"+birth_death_table['b_month']+\"-\"+birth_death_table['b_day'], errors=\"coerce\")\n",
    "birth_death_table['d_date'] = pd.to_datetime(birth_death_table['d_year']+\"-\"+birth_death_table['d_month']+\"-\"+birth_death_table['d_day'], errors=\"coerce\")\n",
    "\n",
    "# birth_death_table#['b_year'].unique()\n"
   ]
  },
  {
   "cell_type": "code",
   "execution_count": 359,
   "metadata": {},
   "outputs": [],
   "source": [
    "workflow_combine_df = pandas_wiki_df.merge(justice_wiki_link_id ,how=\"left\",left_on=\"Justice\",right_on=\"name\").merge(birth_death_table,how=\"left\",left_on=\"url\",right_on=\"urls\")"
   ]
  },
  {
   "cell_type": "code",
   "execution_count": 360,
   "metadata": {},
   "outputs": [],
   "source": [
    "formatted_df = pd.concat([workflow_combine_df[pd.to_datetime(workflow_combine_df[workflow_combine_df.columns[4]], \n",
    "                                            errors=\"coerce\").isna()==False]])\n",
    "formatted_df['start_date'] = pd.to_datetime(formatted_df[formatted_df.columns[4]], \n",
    "                                            errors=\"coerce\")\n",
    "formatted_df['end_date'] = pd.to_datetime(np.where(formatted_df[formatted_df.columns[5]]==\"Incumbent\",\n",
    "                                    pd.to_datetime(\"today\").strftime(\"%Y-%m-%d\"),\n",
    "                                    formatted_df[formatted_df.columns[5]]\n",
    "                                    ))\n",
    "formatted_df = formatted_df.sort_values(by=\"end_date\", ascending=False)\n",
    "# print(formatted_df.info())\n",
    "# formatted_df[['start_date','end_date','b_date','d_date']]\n"
   ]
  },
  {
   "cell_type": "code",
   "execution_count": 361,
   "metadata": {},
   "outputs": [],
   "source": [
    "# formatted_df"
   ]
  },
  {
   "cell_type": "code",
   "execution_count": 362,
   "metadata": {},
   "outputs": [],
   "source": [
    "# formatted_df = formatted_df[['start_date','end_date']]\n",
    "\n",
    "# fig, ax = plt.subplots(figsize=(40, 65))\n",
    "# ax = ax.xaxis_date()\n",
    "# ax = plt.hlines(formatted_df.index, formatted_df['start_date'], formatted_df['end_date'], linewidth=25)\n",
    "# ax = plt.yticks(fontsize = 30)\n",
    "# ax = plt.xticks(fontsize = 75)"
   ]
  },
  {
   "cell_type": "code",
   "execution_count": 363,
   "metadata": {},
   "outputs": [
    {
     "name": "stderr",
     "output_type": "stream",
     "text": [
      "/tmp/ipykernel_3798647/565521749.py:5: SettingWithCopyWarning:\n",
      "\n",
      "\n",
      "A value is trying to be set on a copy of a slice from a DataFrame.\n",
      "Try using .loc[row_indexer,col_indexer] = value instead\n",
      "\n",
      "See the caveats in the documentation: https://pandas.pydata.org/pandas-docs/stable/user_guide/indexing.html#returning-a-view-versus-a-copy\n",
      "\n"
     ]
    },
    {
     "data": {
      "text/html": [
       "<div>\n",
       "<style scoped>\n",
       "    .dataframe tbody tr th:only-of-type {\n",
       "        vertical-align: middle;\n",
       "    }\n",
       "\n",
       "    .dataframe tbody tr th {\n",
       "        vertical-align: top;\n",
       "    }\n",
       "\n",
       "    .dataframe thead th {\n",
       "        text-align: right;\n",
       "    }\n",
       "</style>\n",
       "<table border=\"1\" class=\"dataframe\">\n",
       "  <thead>\n",
       "    <tr style=\"text-align: right;\">\n",
       "      <th></th>\n",
       "      <th>Justice</th>\n",
       "      <th>start_date</th>\n",
       "      <th>end_date</th>\n",
       "      <th>task</th>\n",
       "    </tr>\n",
       "  </thead>\n",
       "  <tbody>\n",
       "    <tr>\n",
       "      <th>111</th>\n",
       "      <td>Amy Coney Barrett</td>\n",
       "      <td>2020-10-27</td>\n",
       "      <td>2022-06-28</td>\n",
       "      <td>term</td>\n",
       "    </tr>\n",
       "    <tr>\n",
       "      <th>54</th>\n",
       "      <td>John Roberts (CJ)</td>\n",
       "      <td>2005-09-29</td>\n",
       "      <td>2022-06-28</td>\n",
       "      <td>term</td>\n",
       "    </tr>\n",
       "    <tr>\n",
       "      <th>106</th>\n",
       "      <td>Brett Kavanaugh</td>\n",
       "      <td>2018-10-06</td>\n",
       "      <td>2022-06-28</td>\n",
       "      <td>term</td>\n",
       "    </tr>\n",
       "    <tr>\n",
       "      <th>97</th>\n",
       "      <td>Neil Gorsuch</td>\n",
       "      <td>2017-04-10</td>\n",
       "      <td>2022-06-28</td>\n",
       "      <td>term</td>\n",
       "    </tr>\n",
       "    <tr>\n",
       "      <th>21</th>\n",
       "      <td>Stephen Breyer</td>\n",
       "      <td>1994-08-03</td>\n",
       "      <td>2022-06-28</td>\n",
       "      <td>term</td>\n",
       "    </tr>\n",
       "    <tr>\n",
       "      <th>...</th>\n",
       "      <td>...</td>\n",
       "      <td>...</td>\n",
       "      <td>...</td>\n",
       "      <td>...</td>\n",
       "    </tr>\n",
       "    <tr>\n",
       "      <th>44</th>\n",
       "      <td>William R. Day</td>\n",
       "      <td>1903-03-02</td>\n",
       "      <td>1922-11-13</td>\n",
       "      <td>term</td>\n",
       "    </tr>\n",
       "    <tr>\n",
       "      <th>94</th>\n",
       "      <td>John Hessin Clarke</td>\n",
       "      <td>1916-10-09</td>\n",
       "      <td>1922-09-18</td>\n",
       "      <td>term</td>\n",
       "    </tr>\n",
       "    <tr>\n",
       "      <th>100</th>\n",
       "      <td>Joseph Rucker Lamar</td>\n",
       "      <td>1911-01-03</td>\n",
       "      <td>1916-01-02</td>\n",
       "      <td>term</td>\n",
       "    </tr>\n",
       "    <tr>\n",
       "      <th>103</th>\n",
       "      <td>Horace Harmon Lurton</td>\n",
       "      <td>1910-01-03</td>\n",
       "      <td>1914-07-12</td>\n",
       "      <td>term</td>\n",
       "    </tr>\n",
       "    <tr>\n",
       "      <th>104</th>\n",
       "      <td>William Henry Moody</td>\n",
       "      <td>1906-12-17</td>\n",
       "      <td>1910-11-20</td>\n",
       "      <td>term</td>\n",
       "    </tr>\n",
       "  </tbody>\n",
       "</table>\n",
       "<p>66 rows × 4 columns</p>\n",
       "</div>"
      ],
      "text/plain": [
       "                  Justice start_date   end_date  task\n",
       "111     Amy Coney Barrett 2020-10-27 2022-06-28  term\n",
       "54      John Roberts (CJ) 2005-09-29 2022-06-28  term\n",
       "106       Brett Kavanaugh 2018-10-06 2022-06-28  term\n",
       "97           Neil Gorsuch 2017-04-10 2022-06-28  term\n",
       "21         Stephen Breyer 1994-08-03 2022-06-28  term\n",
       "..                    ...        ...        ...   ...\n",
       "44         William R. Day 1903-03-02 1922-11-13  term\n",
       "94     John Hessin Clarke 1916-10-09 1922-09-18  term\n",
       "100   Joseph Rucker Lamar 1911-01-03 1916-01-02  term\n",
       "103  Horace Harmon Lurton 1910-01-03 1914-07-12  term\n",
       "104   William Henry Moody 1906-12-17 1910-11-20  term\n",
       "\n",
       "[66 rows x 4 columns]"
      ]
     },
     "execution_count": 363,
     "metadata": {},
     "output_type": "execute_result"
    }
   ],
   "source": [
    "plotly_df = formatted_df[['Justice','start_date','end_date','b_date','d_date']]\n",
    "life = plotly_df[['Justice','b_date','d_date']].rename(columns={'b_date':'start_date','d_date':'end_date'})\n",
    "life['task'] = 'life'\n",
    "term = plotly_df[['Justice','start_date','end_date']]\n",
    "term['task'] = 'term'\n",
    "df = pd.concat([life,term]).dropna().sort_values(by=\"end_date\", ascending=False)\n",
    "df['start_date'] = df['start_date'].astype('datetime64')\n",
    "df['end_date'] = df['end_date'].astype('datetime64')\n",
    "# df[df['Justice']==\"Antonin Scalia\"]\n",
    "df[df['start_date']>=\"1900-01-01\"]\n",
    "\n",
    "# term\n"
   ]
  },
  {
   "cell_type": "code",
   "execution_count": 365,
   "metadata": {},
   "outputs": [
    {
     "data": {
      "application/vnd.plotly.v1+json": {
       "config": {
        "plotlyServerURL": "https://plot.ly"
       },
       "data": [
        {
         "alignmentgroup": "True",
         "base": [
          "2020-10-27T00:00:00",
          "2005-09-29T00:00:00",
          "2018-10-06T00:00:00",
          "2017-04-10T00:00:00",
          "1994-08-03T00:00:00",
          "2010-08-07T00:00:00",
          "2009-08-08T00:00:00",
          "2006-01-31T00:00:00",
          "1991-10-23T00:00:00",
          "1993-08-10T00:00:00",
          "1988-02-18T00:00:00",
          "1986-09-26T00:00:00",
          "1975-12-19T00:00:00",
          "1990-10-09T00:00:00",
          "1981-09-25T00:00:00",
          "1970-06-09T00:00:00",
          "1962-04-16T00:00:00",
          "1967-10-02T00:00:00",
          "1956-10-16T00:00:00",
          "1972-01-07T00:00:00",
          "1969-06-23T00:00:00",
          "1958-10-14T00:00:00",
          "1939-04-17T00:00:00",
          "1955-03-28T00:00:00",
          "1937-08-19T00:00:00",
          "1953-10-05T00:00:00",
          "1965-10-04T00:00:00",
          "1949-08-24T00:00:00",
          "1962-10-01T00:00:00",
          "1939-01-30T00:00:00",
          "1957-03-25T00:00:00",
          "1945-10-01T00:00:00",
          "1938-01-31T00:00:00",
          "1949-10-12T00:00:00",
          "1941-07-11T00:00:00",
          "1946-06-24T00:00:00",
          "1943-02-15T00:00:00",
          "1940-02-05T00:00:00",
          "1930-06-02T00:00:00",
          "1941-07-08T00:00:00",
          "1914-10-12T00:00:00",
          "1923-01-02T00:00:00",
          "1916-06-05T00:00:00",
          "1932-03-14T00:00:00",
          "1922-10-02T00:00:00",
          "1911-01-03T00:00:00",
          "1902-12-08T00:00:00",
          "1923-02-19T00:00:00",
          "1921-07-11T00:00:00",
          "1898-01-26T00:00:00",
          "1912-03-18T00:00:00",
          "1903-03-02T00:00:00",
          "1916-10-09T00:00:00",
          "1911-01-03T00:00:00",
          "1910-01-03T00:00:00",
          "1877-12-10T00:00:00",
          "1906-12-17T00:00:00",
          "1888-10-08T00:00:00",
          "1890-01-06T00:00:00",
          "1896-01-06T00:00:00",
          "1891-01-05T00:00:00",
          "1892-10-10T00:00:00",
          "1882-01-09T00:00:00",
          "1863-05-20T00:00:00",
          "1893-03-04T00:00:00",
          "1882-04-03T00:00:00",
          "1888-01-18T00:00:00",
          "1870-03-23T00:00:00",
          "1862-07-21T00:00:00",
          "1881-05-17T00:00:00",
          "1874-03-04T00:00:00",
          "1881-01-05T00:00:00",
          "1873-01-09T00:00:00",
          "1858-01-21T00:00:00",
          "1862-01-27T00:00:00",
          "1870-03-14T00:00:00",
          "1862-12-10T00:00:00",
          "1864-12-15T00:00:00",
          "1845-02-27T00:00:00",
          "1846-08-10T00:00:00",
          "1835-01-14T00:00:00",
          "1837-05-01T00:00:00",
          "1836-03-28T00:00:00",
          "1853-04-11T00:00:00",
          "1829-03-12T00:00:00",
          "1842-01-10T00:00:00",
          "1851-10-10T00:00:00",
          "1838-01-09T00:00:00",
          "1845-09-23T00:00:00",
          "1812-02-03T00:00:00",
          "1830-01-18T00:00:00",
          "1823-09-01T00:00:00",
          "1836-05-12T00:00:00",
          "1801-02-04T00:00:00",
          "1811-11-23T00:00:00",
          "1804-05-07T00:00:00",
          "1798-11-09T00:00:00",
          "1826-06-16T00:00:00",
          "1807-05-04T00:00:00",
          "1807-01-20T00:00:00",
          "1796-02-04T00:00:00",
          "1790-02-02T00:00:00",
          "1793-03-11T00:00:00",
          "1800-04-21T00:00:00",
          "1796-03-08T00:00:00",
          "1790-05-12T00:00:00",
          "1789-10-05T00:00:00",
          "1790-02-02T00:00:00",
          "1789-10-19T00:00:00",
          "1791-09-19T00:00:00"
         ],
         "hovertemplate": "task=term<br>start_date=%{base}<br>end_date=%{x}<br>Justice=%{y}<extra></extra>",
         "legendgroup": "term",
         "marker": {
          "color": "rgb(29, 133, 60)",
          "pattern": {
           "shape": ""
          }
         },
         "name": "term",
         "offsetgroup": "term",
         "orientation": "h",
         "showlegend": true,
         "textposition": "auto",
         "type": "bar",
         "x": [
          52617600000,
          528422400000,
          117590400000,
          164592000000,
          880502400000,
          375235200000,
          406684800000,
          517708800000,
          968198400000,
          855446400000,
          960854400000,
          927244800000,
          1089590400000,
          590803200000,
          768441600000,
          762134400000,
          984614400000,
          757296000000,
          1065312000000,
          488073600000,
          544665600000,
          716947200000,
          1154131200000,
          520387200000,
          1075420800000,
          495936000000,
          113875200000,
          561686400000,
          88819200000,
          743990400000,
          158284800000,
          411264000000,
          601776000000,
          221184000000,
          418003200000,
          227491200000,
          207273600000,
          298252800000,
          478483200000,
          39052800000,
          830131200000,
          532396800000,
          716083200000,
          199411200000,
          482630400000,
          833500800000,
          918172800000,
          222393600000,
          270345600000,
          850176000000,
          340416000000,
          621734400000,
          187488000000,
          157680000000,
          142646400000,
          1067904000000,
          123897600000,
          685843200000,
          638064000000,
          435369600000,
          485654400000,
          327196800000,
          652579200000,
          1089849600000,
          76636800000,
          355363200000,
          158284800000,
          689040000000,
          890870400000,
          247622400000,
          443491200000,
          200448000000,
          285552000000,
          741830400000,
          599356800000,
          339379200000,
          449107200000,
          264816000000,
          875750400000,
          740880000000,
          1024704000000,
          886118400000,
          900720000000,
          254102400000,
          1011830400000,
          580262400000,
          188524800000,
          458352000000,
          187660800000,
          1060387200000,
          449884800000,
          640483200000,
          151200000000,
          1086048000000,
          730339200000,
          954374400000,
          979689600000,
          69206400000,
          592185600000,
          509846400000,
          484963200000,
          650332800000,
          425865600000,
          118800000000,
          150508800000,
          297907200000,
          280108800000,
          180662400000,
          179625600000,
          41904000000
         ],
         "xaxis": "x",
         "y": [
          "Amy Coney Barrett",
          "John Roberts (CJ)",
          "Brett Kavanaugh",
          "Neil Gorsuch",
          "Stephen Breyer",
          "Elena Kagan",
          "Sonia Sotomayor",
          "Samuel Alito",
          "Clarence Thomas",
          "Ruth Bader Ginsburg",
          "Anthony Kennedy",
          "Antonin Scalia",
          "John Paul Stevens",
          "David Souter",
          "Sandra Day O'Connor",
          "Harry Blackmun",
          "Byron White",
          "Thurgood Marshall",
          "William J. Brennan Jr.",
          "Lewis Franklin Powell",
          "Warren E. Burger (CJ)",
          "Potter Stewart",
          "William O. Douglas",
          "John Marshall Harlan II",
          "Hugo Black",
          "Earl Warren (CJ)",
          "Abe Fortas",
          "Tom C. Clark",
          "Arthur Goldberg",
          "Felix Frankfurter",
          "Charles Evans Whittaker",
          "Harold Hitz Burton",
          "Stanley Forman Reed",
          "Sherman Minton",
          "Robert H. Jackson",
          "Fred M. Vinson (CJ)",
          "Wiley Blount Rutledge",
          "Frank Murphy",
          "Owen Roberts",
          "James F. Byrnes",
          "James Clark McReynolds",
          "Pierce Butler",
          "Louis Brandeis",
          "Benjamin N. Cardozo",
          "George Sutherland",
          "Willis Van Devanter",
          "Oliver Wendell Holmes",
          "Edward Terry Sanford",
          "William Howard Taft (CJ)",
          "Joseph McKenna",
          "Mahlon Pitney",
          "William R. Day",
          "John Hessin Clarke",
          "Joseph Rucker Lamar",
          "Horace Harmon Lurton",
          "John Marshall Harlan",
          "William Henry Moody",
          "Melville Fuller (CJ)",
          "David Josiah Brewer",
          "Rufus W. Peckham",
          "Henry Billings Brown",
          "George Shiras Jr.",
          "Horace Gray",
          "Stephen Johnson Field",
          "Howell Edmunds Jackson",
          "Samuel Blatchford",
          "Lucius Quintus Cincinnatus Lamar",
          "Joseph P. Bradley",
          "Samuel Freeman Miller",
          "Stanley Matthews",
          "Morrison Waite (CJ)",
          "William Burnham Woods",
          "Ward Hunt",
          "Nathan Clifford",
          "Noah Haynes Swayne",
          "William Strong",
          "David Davis",
          "Salmon P. Chase (CJ)",
          "Samuel Nelson",
          "Robert Cooper Grier",
          "James Moore Wayne",
          "John Catron",
          "Roger B. Taney (CJ)",
          "John Archibald Campbell",
          "John McLean",
          "Peter V. Daniel",
          "Benjamin Robbins Curtis",
          "John McKinley",
          "Levi Woodbury",
          "Joseph Story",
          "Henry Baldwin",
          "Smith Thompson",
          "Philip P. Barbour",
          "John Marshall (CJ)",
          "Gabriel Duvall",
          "William Johnson",
          "Bushrod Washington",
          "Robert Trimble",
          "Thomas Todd",
          "Henry Brockholst Livingston",
          "Samuel Chase",
          "William Cushing",
          "William Paterson",
          "Alfred Moore",
          "Oliver Ellsworth (CJ)",
          "James Iredell",
          "James Wilson",
          "John Blair",
          "John Jay (CJ)",
          "Thomas Johnson"
         ],
         "yaxis": "y"
        },
        {
         "alignmentgroup": "True",
         "base": [
          "1933-03-15T00:00:00",
          "1920-04-20T00:00:00",
          "1936-03-11T00:00:00",
          "1917-06-08T00:00:00",
          "1908-11-12T00:00:00",
          "1907-09-19T00:00:00",
          "1906-04-25T00:00:00",
          "1908-07-02T00:00:00",
          "1908-08-08T00:00:00",
          "1915-01-23T00:00:00",
          "1910-06-19T00:00:00",
          "1884-12-31T00:00:00",
          "1898-10-16T00:00:00",
          "1899-09-23T00:00:00",
          "1882-05-02T00:00:00",
          "1899-05-20T00:00:00",
          "1890-10-20T00:00:00",
          "1882-11-15T00:00:00",
          "1888-06-22T00:00:00",
          "1875-05-02T00:00:00",
          "1892-02-13T00:00:00",
          "1890-04-13T00:00:00",
          "1862-02-03T00:00:00",
          "1857-09-18T00:00:00",
          "1862-03-25T00:00:00",
          "1856-11-13T00:00:00",
          "1859-04-17T00:00:00",
          "1866-03-17T00:00:00",
          "1870-05-24T00:00:00",
          "1841-03-08T00:00:00",
          "1865-07-23T00:00:00",
          "1858-02-05T00:00:00",
          "1832-01-26T00:00:00",
          "1849-04-17T00:00:00",
          "1853-12-23T00:00:00",
          "1857-10-14T00:00:00",
          "1844-02-26T00:00:00",
          "1836-03-02T00:00:00",
          "1833-06-01T00:00:00",
          "1838-11-08T00:00:00",
          "1816-11-04T00:00:00",
          "1808-05-06T00:00:00",
          "1832-04-08T00:00:00",
          "1820-03-09T00:00:00",
          "1825-09-17T00:00:00",
          "1813-03-14T00:00:00",
          "1816-04-05T00:00:00",
          "1824-07-21T00:00:00",
          "1811-06-24T00:00:00",
          "1824-08-03T00:00:00",
          "1815-03-09T00:00:00",
          "1810-06-14T00:00:00",
          "1804-12-07T00:00:00",
          "1803-08-18T00:00:00",
          "1786-01-07T00:00:00",
          "1785-03-11T00:00:00",
          "1784-04-24T00:00:00",
          "1780-05-01T00:00:00",
          "1789-12-22T00:00:00",
          "1780-01-14T00:00:00",
          "1752-12-06T00:00:00",
          "1768-01-17T00:00:00",
          "1783-05-25T00:00:00",
          "1771-12-27T00:00:00",
          "1776-11-17T00:00:00",
          "1765-01-23T00:00:00",
          "1757-11-25T00:00:00",
          "1732-11-04T00:00:00",
          "1741-04-17T00:00:00",
          "1755-05-21T00:00:00",
          "1732-03-01T00:00:00",
          "1732-04-17T00:00:00",
          "1751-10-05T00:00:00"
         ],
         "hovertemplate": "task=life<br>start_date=%{base}<br>end_date=%{x}<br>Justice=%{y}<extra></extra>",
         "legendgroup": "life",
         "marker": {
          "color": "rgb(245, 148, 22)",
          "pattern": {
           "shape": ""
          }
         },
         "name": "life",
         "offsetgroup": "life",
         "orientation": "h",
         "showlegend": true,
         "textposition": "auto",
         "type": "bar",
         "width": 0.5,
         "x": [
          2761689600000,
          3131654400000,
          2522275200000,
          2677708800000,
          2849817600000,
          2869603200000,
          2879539200000,
          2668636800000,
          2570313600000,
          2236550400000,
          2265667200000,
          3005856000000,
          2564265600000,
          2452636800000,
          2838153600000,
          2291328000000,
          2349993600000,
          2596233600000,
          2409350400000,
          2525817600000,
          1977091200000,
          1870214400000,
          2668204800000,
          2761430400000,
          2534457600000,
          2678918400000,
          2581804800000,
          2324678400000,
          2149804800000,
          2966112000000,
          2039299200000,
          2109283200000,
          2919542400000,
          2342304000000,
          2004566400000,
          1837123200000,
          2220739200000,
          2445897600000,
          2473027200000,
          2239228800000,
          2601158400000,
          2754518400000,
          1998604800000,
          2314051200000,
          2125440000000,
          2488579200000,
          2351721600000,
          2040768000000,
          2452550400000,
          1981065600000,
          2250028800000,
          2391292800000,
          2508883200000,
          2459462400000,
          2505340800000,
          2400364800000,
          2401488000000,
          2278886400000,
          1947024000000,
          2028067200000,
          2879452800000,
          2395699200000,
          1822608000000,
          1975536000000,
          1633651200000,
          1926201600000,
          2060899200000,
          2744582400000,
          2214345600000,
          1748304000000,
          2478297600000,
          2157580800000,
          1516060800000
         ],
         "xaxis": "x",
         "y": [
          "Ruth Bader Ginsburg",
          "John Paul Stevens",
          "Antonin Scalia",
          "Byron White",
          "Harry Blackmun",
          "Lewis Franklin Powell",
          "William J. Brennan Jr.",
          "Thurgood Marshall",
          "Arthur Goldberg",
          "Potter Stewart",
          "Abe Fortas",
          "Stanley Forman Reed",
          "William O. Douglas",
          "Tom C. Clark",
          "James F. Byrnes",
          "John Marshall Harlan II",
          "Sherman Minton",
          "Felix Frankfurter",
          "Harold Hitz Burton",
          "Owen Roberts",
          "Robert H. Jackson",
          "Frank Murphy",
          "James Clark McReynolds",
          "John Hessin Clarke",
          "George Sutherland",
          "Louis Brandeis",
          "Willis Van Devanter",
          "Pierce Butler",
          "Benjamin N. Cardozo",
          "Oliver Wendell Holmes",
          "Edward Terry Sanford",
          "Mahlon Pitney",
          "George Shiras Jr.",
          "William R. Day",
          "William Henry Moody",
          "Joseph Rucker Lamar",
          "Horace Harmon Lurton",
          "Henry Billings Brown",
          "John Marshall Harlan",
          "Rufus W. Peckham",
          "Stephen Johnson Field",
          "William Strong",
          "Howell Edmunds Jackson",
          "Samuel Blatchford",
          "Lucius Quintus Cincinnatus Lamar",
          "Joseph P. Bradley",
          "Samuel Freeman Miller",
          "Stanley Matthews",
          "John Archibald Campbell",
          "William Burnham Woods",
          "David Davis",
          "Ward Hunt",
          "Noah Haynes Swayne",
          "Nathan Clifford",
          "John Catron",
          "John McLean",
          "Peter V. Daniel",
          "John McKinley",
          "Levi Woodbury",
          "Henry Baldwin",
          "Gabriel Duvall",
          "Smith Thompson",
          "Philip P. Barbour",
          "William Johnson",
          "Robert Trimble",
          "Thomas Todd",
          "Henry Brockholst Livingston",
          "Thomas Johnson",
          "Samuel Chase",
          "Alfred Moore",
          "William Cushing",
          "John Blair",
          "James Iredell"
         ],
         "yaxis": "y"
        }
       ],
       "layout": {
        "barmode": "overlay",
        "height": 3200,
        "legend": {
         "title": {
          "text": "task"
         },
         "tracegroupgap": 0
        },
        "margin": {
         "t": 60
        },
        "template": {
         "data": {
          "bar": [
           {
            "error_x": {
             "color": "#2a3f5f"
            },
            "error_y": {
             "color": "#2a3f5f"
            },
            "marker": {
             "line": {
              "color": "#E5ECF6",
              "width": 0.5
             },
             "pattern": {
              "fillmode": "overlay",
              "size": 10,
              "solidity": 0.2
             }
            },
            "type": "bar"
           }
          ],
          "barpolar": [
           {
            "marker": {
             "line": {
              "color": "#E5ECF6",
              "width": 0.5
             },
             "pattern": {
              "fillmode": "overlay",
              "size": 10,
              "solidity": 0.2
             }
            },
            "type": "barpolar"
           }
          ],
          "carpet": [
           {
            "aaxis": {
             "endlinecolor": "#2a3f5f",
             "gridcolor": "white",
             "linecolor": "white",
             "minorgridcolor": "white",
             "startlinecolor": "#2a3f5f"
            },
            "baxis": {
             "endlinecolor": "#2a3f5f",
             "gridcolor": "white",
             "linecolor": "white",
             "minorgridcolor": "white",
             "startlinecolor": "#2a3f5f"
            },
            "type": "carpet"
           }
          ],
          "choropleth": [
           {
            "colorbar": {
             "outlinewidth": 0,
             "ticks": ""
            },
            "type": "choropleth"
           }
          ],
          "contour": [
           {
            "colorbar": {
             "outlinewidth": 0,
             "ticks": ""
            },
            "colorscale": [
             [
              0,
              "#0d0887"
             ],
             [
              0.1111111111111111,
              "#46039f"
             ],
             [
              0.2222222222222222,
              "#7201a8"
             ],
             [
              0.3333333333333333,
              "#9c179e"
             ],
             [
              0.4444444444444444,
              "#bd3786"
             ],
             [
              0.5555555555555556,
              "#d8576b"
             ],
             [
              0.6666666666666666,
              "#ed7953"
             ],
             [
              0.7777777777777778,
              "#fb9f3a"
             ],
             [
              0.8888888888888888,
              "#fdca26"
             ],
             [
              1,
              "#f0f921"
             ]
            ],
            "type": "contour"
           }
          ],
          "contourcarpet": [
           {
            "colorbar": {
             "outlinewidth": 0,
             "ticks": ""
            },
            "type": "contourcarpet"
           }
          ],
          "heatmap": [
           {
            "colorbar": {
             "outlinewidth": 0,
             "ticks": ""
            },
            "colorscale": [
             [
              0,
              "#0d0887"
             ],
             [
              0.1111111111111111,
              "#46039f"
             ],
             [
              0.2222222222222222,
              "#7201a8"
             ],
             [
              0.3333333333333333,
              "#9c179e"
             ],
             [
              0.4444444444444444,
              "#bd3786"
             ],
             [
              0.5555555555555556,
              "#d8576b"
             ],
             [
              0.6666666666666666,
              "#ed7953"
             ],
             [
              0.7777777777777778,
              "#fb9f3a"
             ],
             [
              0.8888888888888888,
              "#fdca26"
             ],
             [
              1,
              "#f0f921"
             ]
            ],
            "type": "heatmap"
           }
          ],
          "heatmapgl": [
           {
            "colorbar": {
             "outlinewidth": 0,
             "ticks": ""
            },
            "colorscale": [
             [
              0,
              "#0d0887"
             ],
             [
              0.1111111111111111,
              "#46039f"
             ],
             [
              0.2222222222222222,
              "#7201a8"
             ],
             [
              0.3333333333333333,
              "#9c179e"
             ],
             [
              0.4444444444444444,
              "#bd3786"
             ],
             [
              0.5555555555555556,
              "#d8576b"
             ],
             [
              0.6666666666666666,
              "#ed7953"
             ],
             [
              0.7777777777777778,
              "#fb9f3a"
             ],
             [
              0.8888888888888888,
              "#fdca26"
             ],
             [
              1,
              "#f0f921"
             ]
            ],
            "type": "heatmapgl"
           }
          ],
          "histogram": [
           {
            "marker": {
             "pattern": {
              "fillmode": "overlay",
              "size": 10,
              "solidity": 0.2
             }
            },
            "type": "histogram"
           }
          ],
          "histogram2d": [
           {
            "colorbar": {
             "outlinewidth": 0,
             "ticks": ""
            },
            "colorscale": [
             [
              0,
              "#0d0887"
             ],
             [
              0.1111111111111111,
              "#46039f"
             ],
             [
              0.2222222222222222,
              "#7201a8"
             ],
             [
              0.3333333333333333,
              "#9c179e"
             ],
             [
              0.4444444444444444,
              "#bd3786"
             ],
             [
              0.5555555555555556,
              "#d8576b"
             ],
             [
              0.6666666666666666,
              "#ed7953"
             ],
             [
              0.7777777777777778,
              "#fb9f3a"
             ],
             [
              0.8888888888888888,
              "#fdca26"
             ],
             [
              1,
              "#f0f921"
             ]
            ],
            "type": "histogram2d"
           }
          ],
          "histogram2dcontour": [
           {
            "colorbar": {
             "outlinewidth": 0,
             "ticks": ""
            },
            "colorscale": [
             [
              0,
              "#0d0887"
             ],
             [
              0.1111111111111111,
              "#46039f"
             ],
             [
              0.2222222222222222,
              "#7201a8"
             ],
             [
              0.3333333333333333,
              "#9c179e"
             ],
             [
              0.4444444444444444,
              "#bd3786"
             ],
             [
              0.5555555555555556,
              "#d8576b"
             ],
             [
              0.6666666666666666,
              "#ed7953"
             ],
             [
              0.7777777777777778,
              "#fb9f3a"
             ],
             [
              0.8888888888888888,
              "#fdca26"
             ],
             [
              1,
              "#f0f921"
             ]
            ],
            "type": "histogram2dcontour"
           }
          ],
          "mesh3d": [
           {
            "colorbar": {
             "outlinewidth": 0,
             "ticks": ""
            },
            "type": "mesh3d"
           }
          ],
          "parcoords": [
           {
            "line": {
             "colorbar": {
              "outlinewidth": 0,
              "ticks": ""
             }
            },
            "type": "parcoords"
           }
          ],
          "pie": [
           {
            "automargin": true,
            "type": "pie"
           }
          ],
          "scatter": [
           {
            "fillpattern": {
             "fillmode": "overlay",
             "size": 10,
             "solidity": 0.2
            },
            "type": "scatter"
           }
          ],
          "scatter3d": [
           {
            "line": {
             "colorbar": {
              "outlinewidth": 0,
              "ticks": ""
             }
            },
            "marker": {
             "colorbar": {
              "outlinewidth": 0,
              "ticks": ""
             }
            },
            "type": "scatter3d"
           }
          ],
          "scattercarpet": [
           {
            "marker": {
             "colorbar": {
              "outlinewidth": 0,
              "ticks": ""
             }
            },
            "type": "scattercarpet"
           }
          ],
          "scattergeo": [
           {
            "marker": {
             "colorbar": {
              "outlinewidth": 0,
              "ticks": ""
             }
            },
            "type": "scattergeo"
           }
          ],
          "scattergl": [
           {
            "marker": {
             "colorbar": {
              "outlinewidth": 0,
              "ticks": ""
             }
            },
            "type": "scattergl"
           }
          ],
          "scattermapbox": [
           {
            "marker": {
             "colorbar": {
              "outlinewidth": 0,
              "ticks": ""
             }
            },
            "type": "scattermapbox"
           }
          ],
          "scatterpolar": [
           {
            "marker": {
             "colorbar": {
              "outlinewidth": 0,
              "ticks": ""
             }
            },
            "type": "scatterpolar"
           }
          ],
          "scatterpolargl": [
           {
            "marker": {
             "colorbar": {
              "outlinewidth": 0,
              "ticks": ""
             }
            },
            "type": "scatterpolargl"
           }
          ],
          "scatterternary": [
           {
            "marker": {
             "colorbar": {
              "outlinewidth": 0,
              "ticks": ""
             }
            },
            "type": "scatterternary"
           }
          ],
          "surface": [
           {
            "colorbar": {
             "outlinewidth": 0,
             "ticks": ""
            },
            "colorscale": [
             [
              0,
              "#0d0887"
             ],
             [
              0.1111111111111111,
              "#46039f"
             ],
             [
              0.2222222222222222,
              "#7201a8"
             ],
             [
              0.3333333333333333,
              "#9c179e"
             ],
             [
              0.4444444444444444,
              "#bd3786"
             ],
             [
              0.5555555555555556,
              "#d8576b"
             ],
             [
              0.6666666666666666,
              "#ed7953"
             ],
             [
              0.7777777777777778,
              "#fb9f3a"
             ],
             [
              0.8888888888888888,
              "#fdca26"
             ],
             [
              1,
              "#f0f921"
             ]
            ],
            "type": "surface"
           }
          ],
          "table": [
           {
            "cells": {
             "fill": {
              "color": "#EBF0F8"
             },
             "line": {
              "color": "white"
             }
            },
            "header": {
             "fill": {
              "color": "#C8D4E3"
             },
             "line": {
              "color": "white"
             }
            },
            "type": "table"
           }
          ]
         },
         "layout": {
          "annotationdefaults": {
           "arrowcolor": "#2a3f5f",
           "arrowhead": 0,
           "arrowwidth": 1
          },
          "autotypenumbers": "strict",
          "coloraxis": {
           "colorbar": {
            "outlinewidth": 0,
            "ticks": ""
           }
          },
          "colorscale": {
           "diverging": [
            [
             0,
             "#8e0152"
            ],
            [
             0.1,
             "#c51b7d"
            ],
            [
             0.2,
             "#de77ae"
            ],
            [
             0.3,
             "#f1b6da"
            ],
            [
             0.4,
             "#fde0ef"
            ],
            [
             0.5,
             "#f7f7f7"
            ],
            [
             0.6,
             "#e6f5d0"
            ],
            [
             0.7,
             "#b8e186"
            ],
            [
             0.8,
             "#7fbc41"
            ],
            [
             0.9,
             "#4d9221"
            ],
            [
             1,
             "#276419"
            ]
           ],
           "sequential": [
            [
             0,
             "#0d0887"
            ],
            [
             0.1111111111111111,
             "#46039f"
            ],
            [
             0.2222222222222222,
             "#7201a8"
            ],
            [
             0.3333333333333333,
             "#9c179e"
            ],
            [
             0.4444444444444444,
             "#bd3786"
            ],
            [
             0.5555555555555556,
             "#d8576b"
            ],
            [
             0.6666666666666666,
             "#ed7953"
            ],
            [
             0.7777777777777778,
             "#fb9f3a"
            ],
            [
             0.8888888888888888,
             "#fdca26"
            ],
            [
             1,
             "#f0f921"
            ]
           ],
           "sequentialminus": [
            [
             0,
             "#0d0887"
            ],
            [
             0.1111111111111111,
             "#46039f"
            ],
            [
             0.2222222222222222,
             "#7201a8"
            ],
            [
             0.3333333333333333,
             "#9c179e"
            ],
            [
             0.4444444444444444,
             "#bd3786"
            ],
            [
             0.5555555555555556,
             "#d8576b"
            ],
            [
             0.6666666666666666,
             "#ed7953"
            ],
            [
             0.7777777777777778,
             "#fb9f3a"
            ],
            [
             0.8888888888888888,
             "#fdca26"
            ],
            [
             1,
             "#f0f921"
            ]
           ]
          },
          "colorway": [
           "#636efa",
           "#EF553B",
           "#00cc96",
           "#ab63fa",
           "#FFA15A",
           "#19d3f3",
           "#FF6692",
           "#B6E880",
           "#FF97FF",
           "#FECB52"
          ],
          "font": {
           "color": "#2a3f5f"
          },
          "geo": {
           "bgcolor": "white",
           "lakecolor": "white",
           "landcolor": "#E5ECF6",
           "showlakes": true,
           "showland": true,
           "subunitcolor": "white"
          },
          "hoverlabel": {
           "align": "left"
          },
          "hovermode": "closest",
          "mapbox": {
           "style": "light"
          },
          "paper_bgcolor": "white",
          "plot_bgcolor": "#E5ECF6",
          "polar": {
           "angularaxis": {
            "gridcolor": "white",
            "linecolor": "white",
            "ticks": ""
           },
           "bgcolor": "#E5ECF6",
           "radialaxis": {
            "gridcolor": "white",
            "linecolor": "white",
            "ticks": ""
           }
          },
          "scene": {
           "xaxis": {
            "backgroundcolor": "#E5ECF6",
            "gridcolor": "white",
            "gridwidth": 2,
            "linecolor": "white",
            "showbackground": true,
            "ticks": "",
            "zerolinecolor": "white"
           },
           "yaxis": {
            "backgroundcolor": "#E5ECF6",
            "gridcolor": "white",
            "gridwidth": 2,
            "linecolor": "white",
            "showbackground": true,
            "ticks": "",
            "zerolinecolor": "white"
           },
           "zaxis": {
            "backgroundcolor": "#E5ECF6",
            "gridcolor": "white",
            "gridwidth": 2,
            "linecolor": "white",
            "showbackground": true,
            "ticks": "",
            "zerolinecolor": "white"
           }
          },
          "shapedefaults": {
           "line": {
            "color": "#2a3f5f"
           }
          },
          "ternary": {
           "aaxis": {
            "gridcolor": "white",
            "linecolor": "white",
            "ticks": ""
           },
           "baxis": {
            "gridcolor": "white",
            "linecolor": "white",
            "ticks": ""
           },
           "bgcolor": "#E5ECF6",
           "caxis": {
            "gridcolor": "white",
            "linecolor": "white",
            "ticks": ""
           }
          },
          "title": {
           "x": 0.05
          },
          "xaxis": {
           "automargin": true,
           "gridcolor": "white",
           "linecolor": "white",
           "ticks": "",
           "title": {
            "standoff": 15
           },
           "zerolinecolor": "white",
           "zerolinewidth": 2
          },
          "yaxis": {
           "automargin": true,
           "gridcolor": "white",
           "linecolor": "white",
           "ticks": "",
           "title": {
            "standoff": 15
           },
           "zerolinecolor": "white",
           "zerolinewidth": 2
          }
         }
        },
        "width": 1200,
        "xaxis": {
         "anchor": "y",
         "domain": [
          0,
          1
         ],
         "type": "date"
        },
        "yaxis": {
         "anchor": "x",
         "autorange": "reversed",
         "domain": [
          0,
          1
         ],
         "title": {
          "text": "Justice"
         }
        }
       }
      }
     },
     "metadata": {},
     "output_type": "display_data"
    }
   ],
   "source": [
    "colors = {}\n",
    "colors['term'] =  'rgb(29, 133, 60)' #specify the color for the 'planned' schedule bars\n",
    "colors['life'] = 'rgb(245, 148, 22)'  #specify the color for the 'actual' schedule bars\n",
    "\n",
    "fig = px.timeline(\n",
    "    df, \n",
    "    x_start=\"start_date\", \n",
    "    x_end=\"end_date\", \n",
    "    y=\"Justice\",\n",
    "    color='task',\n",
    "    color_discrete_map = colors,\n",
    "    # hover_name=\"Task Description\"\n",
    "    width=1200, height=3200\n",
    "    )\n",
    "\n",
    "fig.update_yaxes(autorange=\"reversed\")          #if not specified as 'reversed', the tasks will be listed from bottom up       \n",
    "fig.data[1].width=0.5 # update the width of the 'Actual' schedule bars (the second trace of the figure)\n",
    "fig.show()\n"
   ]
  }
 ],
 "metadata": {
  "kernelspec": {
   "display_name": "Python 3.10.4 64-bit",
   "language": "python",
   "name": "python3"
  },
  "language_info": {
   "codemirror_mode": {
    "name": "ipython",
    "version": 3
   },
   "file_extension": ".py",
   "mimetype": "text/x-python",
   "name": "python",
   "nbconvert_exporter": "python",
   "pygments_lexer": "ipython3",
   "version": "3.10.4"
  },
  "orig_nbformat": 4,
  "vscode": {
   "interpreter": {
    "hash": "916dbcbb3f70747c44a77c7bcd40155683ae19c65e1c03b4aa3499c5328201f1"
   }
  }
 },
 "nbformat": 4,
 "nbformat_minor": 2
}
