{
 "cells": [
  {
   "cell_type": "code",
   "execution_count": 1,
   "metadata": {},
   "outputs": [],
   "source": [
    "import re\n",
    "import requests\n",
    "import pandas as pd\n",
    "import numpy as np\n",
    "from bs4 import BeautifulSoup\n",
    "import plotly.express as px\n",
    "\n",
    "def get_soup(input_url,parser,find):\n",
    "    url = input_url\n",
    "    r = requests.get(url)\n",
    "    if find == \"content\" :\n",
    "        soup = BeautifulSoup(r.content, parser)\n",
    "    else :\n",
    "        soup = BeautifulSoup(r.text, parser)\n",
    "    return soup"
   ]
  },
  {
   "cell_type": "code",
   "execution_count": 2,
   "metadata": {},
   "outputs": [],
   "source": [
    "pandas_wiki_df = pd.read_html('https://en.wikipedia.org/wiki/List_of_United_States_Supreme_Court_justices_by_time_in_office')[1]\n",
    "# date_errors = pandas_wiki_df[pd.to_datetime(pandas_wiki_df[pandas_wiki_df.columns[4]], errors=\"coerce\").isna()]\n",
    "# date_errors\n",
    "# pandas_wiki_df[pd.to_datetime(pandas_wiki_df[pandas_wiki_df.columns[4]], errors=\"coerce\").isna()==False]"
   ]
  },
  {
   "cell_type": "code",
   "execution_count": 3,
   "metadata": {},
   "outputs": [
    {
     "data": {
      "text/html": [
       "<div>\n",
       "<style scoped>\n",
       "    .dataframe tbody tr th:only-of-type {\n",
       "        vertical-align: middle;\n",
       "    }\n",
       "\n",
       "    .dataframe tbody tr th {\n",
       "        vertical-align: top;\n",
       "    }\n",
       "\n",
       "    .dataframe thead th {\n",
       "        text-align: right;\n",
       "    }\n",
       "</style>\n",
       "<table border=\"1\" class=\"dataframe\">\n",
       "  <thead>\n",
       "    <tr style=\"text-align: right;\">\n",
       "      <th></th>\n",
       "      <th>name</th>\n",
       "      <th>url</th>\n",
       "    </tr>\n",
       "  </thead>\n",
       "  <tbody>\n",
       "    <tr>\n",
       "      <th>0</th>\n",
       "      <td>William O. Douglas</td>\n",
       "      <td>/wiki/William_O._Douglas</td>\n",
       "    </tr>\n",
       "    <tr>\n",
       "      <th>1</th>\n",
       "      <td>Stephen Johnson Field</td>\n",
       "      <td>/wiki/Stephen_Johnson_Field</td>\n",
       "    </tr>\n",
       "    <tr>\n",
       "      <th>2</th>\n",
       "      <td>John Paul Stevens</td>\n",
       "      <td>/wiki/John_Paul_Stevens</td>\n",
       "    </tr>\n",
       "    <tr>\n",
       "      <th>3</th>\n",
       "      <td>John Marshall (CJ)</td>\n",
       "      <td>/wiki/John_Marshall</td>\n",
       "    </tr>\n",
       "    <tr>\n",
       "      <th>4</th>\n",
       "      <td>Hugo Black</td>\n",
       "      <td>/wiki/Hugo_Black</td>\n",
       "    </tr>\n",
       "    <tr>\n",
       "      <th>...</th>\n",
       "      <td>...</td>\n",
       "      <td>...</td>\n",
       "    </tr>\n",
       "    <tr>\n",
       "      <th>110</th>\n",
       "      <td>Robert Trimble</td>\n",
       "      <td>/wiki/Robert_Trimble</td>\n",
       "    </tr>\n",
       "    <tr>\n",
       "      <th>111</th>\n",
       "      <td>Amy Coney Barrett</td>\n",
       "      <td>/wiki/Amy_Coney_Barrett</td>\n",
       "    </tr>\n",
       "    <tr>\n",
       "      <th>112</th>\n",
       "      <td>John Rutledge (CJ)</td>\n",
       "      <td>/wiki/John_Rutledge</td>\n",
       "    </tr>\n",
       "    <tr>\n",
       "      <th>113</th>\n",
       "      <td>Thomas Johnson</td>\n",
       "      <td>/wiki/Thomas_Johnson_(jurist)</td>\n",
       "    </tr>\n",
       "    <tr>\n",
       "      <th>114</th>\n",
       "      <td>James F. Byrnes</td>\n",
       "      <td>/wiki/James_F._Byrnes</td>\n",
       "    </tr>\n",
       "  </tbody>\n",
       "</table>\n",
       "<p>115 rows × 2 columns</p>\n",
       "</div>"
      ],
      "text/plain": [
       "                      name                            url\n",
       "0       William O. Douglas       /wiki/William_O._Douglas\n",
       "1    Stephen Johnson Field    /wiki/Stephen_Johnson_Field\n",
       "2        John Paul Stevens        /wiki/John_Paul_Stevens\n",
       "3       John Marshall (CJ)            /wiki/John_Marshall\n",
       "4               Hugo Black               /wiki/Hugo_Black\n",
       "..                     ...                            ...\n",
       "110         Robert Trimble           /wiki/Robert_Trimble\n",
       "111      Amy Coney Barrett        /wiki/Amy_Coney_Barrett\n",
       "112     John Rutledge (CJ)            /wiki/John_Rutledge\n",
       "113         Thomas Johnson  /wiki/Thomas_Johnson_(jurist)\n",
       "114        James F. Byrnes          /wiki/James_F._Byrnes\n",
       "\n",
       "[115 rows x 2 columns]"
      ]
     },
     "execution_count": 3,
     "metadata": {},
     "output_type": "execute_result"
    }
   ],
   "source": [
    "table = get_soup('https://en.wikipedia.org/wiki/List_of_United_States_Supreme_Court_justices_by_time_in_office','html.parser','content').find( \"table\", {\"id\":\"justices\"} )\n",
    "justices_tr = table.findAll(\"tr\")[1:]\n",
    "\n",
    "justice_name = []\n",
    "justice_url = []\n",
    "justice_term_start = []\n",
    "justice_term_end = []\n",
    "\n",
    "for justice in justices_tr:\n",
    "    justice_str = justice.find_all('td')[1].text\n",
    "    justice_name.append(' '.join(justice_str.split()))\n",
    "\n",
    "    justiceurl = justice.find('a').get('href')\n",
    "    justice_url.append(justiceurl)\n",
    "    \n",
    "    # justice_ts = justice.find_all('td')\n",
    "    # justice_term_start.append(justice_ts[4].text)\n",
    "\n",
    "    # justice_te = justice.find_all('td')\n",
    "    # justice_term_end.append(justice_te[5].text)\n",
    "\n",
    "justice_wiki_link_id = pd.DataFrame({\n",
    "                                    'name': justice_name,\n",
    "                                    'url': justice_url,\n",
    "                    # 'term_start': justice_term_start,\n",
    "                    # 'term_end':justice_term_end\n",
    "                    })\n",
    "justice_wiki_link_id "
   ]
  },
  {
   "cell_type": "code",
   "execution_count": null,
   "metadata": {},
   "outputs": [],
   "source": []
  },
  {
   "cell_type": "code",
   "execution_count": 4,
   "metadata": {},
   "outputs": [
    {
     "name": "stdout",
     "output_type": "stream",
     "text": [
      "James_Moore_Wayne\n",
      "David_Josiah_Brewer\n",
      "James_Wilson_(justice)\n",
      "Wiley_Blount_Rutledge\n"
     ]
    }
   ],
   "source": [
    "urls = []\n",
    "b_date = []\n",
    "d_date = []\n",
    "\n",
    "def parseWikiDateData(wiki_date_data_str,y,m,d):\n",
    "    try:\n",
    "        year = wiki_date_data_str[y].replace(r\"}}\", \"\")\n",
    "        month = wiki_date_data_str[m].replace(r\"}}\", \"\")\n",
    "        day = wiki_date_data_str[d].replace(r\"}}\", \"\")\n",
    "        date = year+\"-\"+month+\"-\"+day\n",
    "    except:\n",
    "        date = year+\"-\"+\"01\"+\"-\"+\"01\"\n",
    "    return pd.to_datetime(date)\n",
    "\n",
    "def get_birth_death(justice_url):\n",
    "    try:\n",
    "        format_justice_url = 'https://en.wikipedia.org/w/api.php?action=query&prop=revisions&rvprop=content&rvsection=0&titles='+justice_url.replace(\"/wiki/\", \"\")+'&format=xml'\n",
    "        soup = get_soup(format_justice_url,'xml','text')\n",
    "        urls.append(justice_url)\n",
    "        # print(justice_url.replace(\"/wiki/\", \"\"))\n",
    "\n",
    "        birth_re = re.search(r'(birth_date(.*?)}})', soup.getText())\n",
    "        birth_data = birth_re.group(0).split('|')\n",
    "\n",
    "        birth_date = parseWikiDateData(birth_data,1,2,3)\n",
    "        b_date.append(birth_date)\n",
    "\n",
    "        try:\n",
    "            death_re = re.search(r'(death_date(.*?)}})', soup.getText())\n",
    "            death_data = death_re.group(0).split('|')\n",
    "            # print(death_data)\n",
    "            if death_data[1] == r'{{death date and age':\n",
    "                death_date = parseWikiDateData(death_data,2,3,4)\n",
    "                d_date.append(death_date)\n",
    "            elif death_data[0] > death_data[4]:\n",
    "                death_date = parseWikiDateData(death_data,1,2,3)\n",
    "                d_date.append(death_date)\n",
    "            else:\n",
    "                death_date = parseWikiDateData(death_data,4,5,6)\n",
    "                d_date.append(death_date)\n",
    "        except:\n",
    "            d_date.append(np.nan)\n",
    "\n",
    "    except:\n",
    "        print(justice_url.replace(\"/wiki/\", \"\"))\n",
    "        b_date.append(np.nan)\n",
    "        d_date.append(np.nan)\n",
    "        \n",
    "\n",
    "for url in justice_wiki_link_id['url']:\n",
    "    get_birth_death(url)\n",
    "\n",
    "\n",
    "\n"
   ]
  },
  {
   "cell_type": "code",
   "execution_count": null,
   "metadata": {},
   "outputs": [],
   "source": []
  },
  {
   "cell_type": "code",
   "execution_count": 5,
   "metadata": {},
   "outputs": [],
   "source": [
    "birth_death_table = pd.DataFrame({\n",
    "                                'urls': urls,\n",
    "                                'b_date':b_date,\n",
    "                                'd_date':d_date,\n",
    "                                })\n",
    "workflow_combine_df = pandas_wiki_df.merge(justice_wiki_link_id ,how=\"left\",left_on=\"Justice\",right_on=\"name\").merge(birth_death_table,how=\"left\",left_on=\"url\",right_on=\"urls\")\n",
    "formatted_df = pd.concat([workflow_combine_df[pd.to_datetime(workflow_combine_df[workflow_combine_df.columns[4]], \n",
    "                                            errors=\"coerce\").isna()==False]])\n",
    "# formatted_df\n"
   ]
  },
  {
   "cell_type": "code",
   "execution_count": 6,
   "metadata": {},
   "outputs": [],
   "source": [
    "formatted_df['start_date'] = pd.to_datetime(formatted_df[formatted_df.columns[4]], \n",
    "                                            errors=\"coerce\")\n",
    "formatted_df['end_date'] = pd.to_datetime(np.where(formatted_df[formatted_df.columns[5]]==\"Incumbent\",\n",
    "                                    pd.to_datetime(\"today\").strftime(\"%Y-%m-%d\"),\n",
    "                                    formatted_df[formatted_df.columns[5]]\n",
    "                                    ))\n",
    "formatted_df['d_date'] = np.where(formatted_df['end_date']==pd.to_datetime(\"today\").strftime(\"%Y-%m-%d\"),\n",
    "                                    formatted_df['end_date'],\n",
    "                                    formatted_df['d_date'])    \n",
    "formatted_df = formatted_df.sort_values(by=\"end_date\", ascending=False)\n",
    "plotly_df = formatted_df[['Justice','start_date','end_date','b_date','d_date']]\n",
    "life = plotly_df[['Justice','b_date','d_date']].copy().rename(columns={'b_date':'start_date','d_date':'end_date'})\n",
    "life['task'] = 'life'\n",
    "term = plotly_df[['Justice','start_date','end_date']].copy()\n",
    "term['task'] = 'term'\n",
    "df = pd.concat([life,term]).dropna().sort_values(by=[\"end_date\",\"task\"], ascending=False)\n",
    "# df[df['Justice']==\"Antonin Scalia\"]\n",
    "# df[df['start_date']>=\"1900-01-01\"]\n",
    "# df"
   ]
  },
  {
   "cell_type": "code",
   "execution_count": 7,
   "metadata": {},
   "outputs": [
    {
     "name": "stdout",
     "output_type": "stream",
     "text": [
      "1894-07-20 00:00:00\n"
     ]
    }
   ],
   "source": []
  },
  {
   "cell_type": "code",
   "execution_count": 8,
   "metadata": {},
   "outputs": [],
   "source": [
    "# workflow_combine_df[workflow_combine_df['d_date'].isnull()]"
   ]
  },
  {
   "cell_type": "code",
   "execution_count": 9,
   "metadata": {},
   "outputs": [
    {
     "data": {
      "text/html": [
       "<div>\n",
       "<style scoped>\n",
       "    .dataframe tbody tr th:only-of-type {\n",
       "        vertical-align: middle;\n",
       "    }\n",
       "\n",
       "    .dataframe tbody tr th {\n",
       "        vertical-align: top;\n",
       "    }\n",
       "\n",
       "    .dataframe thead th {\n",
       "        text-align: right;\n",
       "    }\n",
       "</style>\n",
       "<table border=\"1\" class=\"dataframe\">\n",
       "  <thead>\n",
       "    <tr style=\"text-align: right;\">\n",
       "      <th></th>\n",
       "      <th>Rank</th>\n",
       "      <th>Justice</th>\n",
       "      <th>Lengthin days</th>\n",
       "      <th>Lengthin years and days</th>\n",
       "      <th>Start date[3]</th>\n",
       "      <th>End date[3]</th>\n",
       "      <th>name</th>\n",
       "      <th>url</th>\n",
       "      <th>urls</th>\n",
       "      <th>b_date</th>\n",
       "      <th>d_date</th>\n",
       "    </tr>\n",
       "  </thead>\n",
       "  <tbody>\n",
       "    <tr>\n",
       "      <th>9</th>\n",
       "      <td>10</td>\n",
       "      <td>James Moore Wayne</td>\n",
       "      <td>11860</td>\n",
       "      <td>32 years, 172 days</td>\n",
       "      <td>January 14, 1835</td>\n",
       "      <td>July 5, 1867</td>\n",
       "      <td>James Moore Wayne</td>\n",
       "      <td>/wiki/James_Moore_Wayne</td>\n",
       "      <td>/wiki/James_Moore_Wayne</td>\n",
       "      <td>NaT</td>\n",
       "      <td>NaT</td>\n",
       "    </tr>\n",
       "    <tr>\n",
       "      <th>14</th>\n",
       "      <td>15</td>\n",
       "      <td>Anthony Kennedy</td>\n",
       "      <td>11121</td>\n",
       "      <td>30 years, 163 days</td>\n",
       "      <td>February 18, 1988</td>\n",
       "      <td>July 31, 2018</td>\n",
       "      <td>Anthony Kennedy</td>\n",
       "      <td>/wiki/Anthony_Kennedy</td>\n",
       "      <td>/wiki/Anthony_Kennedy</td>\n",
       "      <td>1936-07-23</td>\n",
       "      <td>NaT</td>\n",
       "    </tr>\n",
       "    <tr>\n",
       "      <th>28</th>\n",
       "      <td>29</td>\n",
       "      <td>Sandra Day O'Connor</td>\n",
       "      <td>8894</td>\n",
       "      <td>24 years, 128 days</td>\n",
       "      <td>September 25, 1981</td>\n",
       "      <td>January 31, 2006</td>\n",
       "      <td>Sandra Day O'Connor</td>\n",
       "      <td>/wiki/Sandra_Day_O%27Connor</td>\n",
       "      <td>/wiki/Sandra_Day_O%27Connor</td>\n",
       "      <td>1930-03-26</td>\n",
       "      <td>NaT</td>\n",
       "    </tr>\n",
       "    <tr>\n",
       "      <th>43</th>\n",
       "      <td>44</td>\n",
       "      <td>David Josiah Brewer</td>\n",
       "      <td>7385</td>\n",
       "      <td>20 years, 81 days</td>\n",
       "      <td>January 6, 1890</td>\n",
       "      <td>March 28, 1910</td>\n",
       "      <td>David Josiah Brewer</td>\n",
       "      <td>/wiki/David_Josiah_Brewer</td>\n",
       "      <td>/wiki/David_Josiah_Brewer</td>\n",
       "      <td>NaT</td>\n",
       "      <td>NaT</td>\n",
       "    </tr>\n",
       "    <tr>\n",
       "      <th>48</th>\n",
       "      <td>49</td>\n",
       "      <td>David Souter</td>\n",
       "      <td>6838</td>\n",
       "      <td>18 years, 263 days</td>\n",
       "      <td>October 9, 1990</td>\n",
       "      <td>June 29, 2009</td>\n",
       "      <td>David Souter</td>\n",
       "      <td>/wiki/David_Souter</td>\n",
       "      <td>/wiki/David_Souter</td>\n",
       "      <td>1939-09-17</td>\n",
       "      <td>NaT</td>\n",
       "    </tr>\n",
       "    <tr>\n",
       "      <th>81</th>\n",
       "      <td>82</td>\n",
       "      <td>James Wilson</td>\n",
       "      <td>3242</td>\n",
       "      <td>8 years, 320 days</td>\n",
       "      <td>October 5, 1789</td>\n",
       "      <td>August 21, 1798</td>\n",
       "      <td>James Wilson</td>\n",
       "      <td>/wiki/James_Wilson_(justice)</td>\n",
       "      <td>/wiki/James_Wilson_(justice)</td>\n",
       "      <td>NaT</td>\n",
       "      <td>NaT</td>\n",
       "    </tr>\n",
       "    <tr>\n",
       "      <th>89</th>\n",
       "      <td>90</td>\n",
       "      <td>Wiley Blount Rutledge</td>\n",
       "      <td>2399</td>\n",
       "      <td>6 years, 207 days</td>\n",
       "      <td>February 15, 1943</td>\n",
       "      <td>September 10, 1949</td>\n",
       "      <td>Wiley Blount Rutledge</td>\n",
       "      <td>/wiki/Wiley_Blount_Rutledge</td>\n",
       "      <td>/wiki/Wiley_Blount_Rutledge</td>\n",
       "      <td>NaT</td>\n",
       "      <td>NaT</td>\n",
       "    </tr>\n",
       "    <tr>\n",
       "      <th>99</th>\n",
       "      <td>99 (tie)</td>\n",
       "      <td>Charles Evans Whittaker</td>\n",
       "      <td>1832</td>\n",
       "      <td>5 years, 6 days</td>\n",
       "      <td>March 25, 1957</td>\n",
       "      <td>March 31, 1962</td>\n",
       "      <td>NaN</td>\n",
       "      <td>NaN</td>\n",
       "      <td>NaN</td>\n",
       "      <td>NaT</td>\n",
       "      <td>NaT</td>\n",
       "    </tr>\n",
       "  </tbody>\n",
       "</table>\n",
       "</div>"
      ],
      "text/plain": [
       "        Rank                  Justice Lengthin days Lengthin years and days  \\\n",
       "9         10        James Moore Wayne         11860      32 years, 172 days   \n",
       "14        15          Anthony Kennedy         11121      30 years, 163 days   \n",
       "28        29      Sandra Day O'Connor          8894      24 years, 128 days   \n",
       "43        44      David Josiah Brewer          7385       20 years, 81 days   \n",
       "48        49             David Souter          6838      18 years, 263 days   \n",
       "81        82             James Wilson          3242       8 years, 320 days   \n",
       "89        90    Wiley Blount Rutledge          2399       6 years, 207 days   \n",
       "99  99 (tie)  Charles Evans Whittaker          1832         5 years, 6 days   \n",
       "\n",
       "         Start date[3]         End date[3]                   name  \\\n",
       "9     January 14, 1835        July 5, 1867      James Moore Wayne   \n",
       "14   February 18, 1988       July 31, 2018        Anthony Kennedy   \n",
       "28  September 25, 1981    January 31, 2006    Sandra Day O'Connor   \n",
       "43     January 6, 1890      March 28, 1910    David Josiah Brewer   \n",
       "48     October 9, 1990       June 29, 2009           David Souter   \n",
       "81     October 5, 1789     August 21, 1798           James Wilson   \n",
       "89   February 15, 1943  September 10, 1949  Wiley Blount Rutledge   \n",
       "99      March 25, 1957      March 31, 1962                    NaN   \n",
       "\n",
       "                             url                          urls     b_date  \\\n",
       "9        /wiki/James_Moore_Wayne       /wiki/James_Moore_Wayne        NaT   \n",
       "14         /wiki/Anthony_Kennedy         /wiki/Anthony_Kennedy 1936-07-23   \n",
       "28   /wiki/Sandra_Day_O%27Connor   /wiki/Sandra_Day_O%27Connor 1930-03-26   \n",
       "43     /wiki/David_Josiah_Brewer     /wiki/David_Josiah_Brewer        NaT   \n",
       "48            /wiki/David_Souter            /wiki/David_Souter 1939-09-17   \n",
       "81  /wiki/James_Wilson_(justice)  /wiki/James_Wilson_(justice)        NaT   \n",
       "89   /wiki/Wiley_Blount_Rutledge   /wiki/Wiley_Blount_Rutledge        NaT   \n",
       "99                           NaN                           NaN        NaT   \n",
       "\n",
       "   d_date  \n",
       "9     NaT  \n",
       "14    NaT  \n",
       "28    NaT  \n",
       "43    NaT  \n",
       "48    NaT  \n",
       "81    NaT  \n",
       "89    NaT  \n",
       "99    NaT  "
      ]
     },
     "execution_count": 9,
     "metadata": {},
     "output_type": "execute_result"
    }
   ],
   "source": [
    "lookup_df = life\n",
    "lookup = lookup_df[lookup_df.end_date.isnull()]['Justice'].unique()\n",
    "workflow_combine_df[workflow_combine_df['Justice'].isin(lookup)]"
   ]
  },
  {
   "cell_type": "code",
   "execution_count": 10,
   "metadata": {},
   "outputs": [
    {
     "data": {
      "application/vnd.plotly.v1+json": {
       "config": {
        "plotlyServerURL": "https://plot.ly"
       },
       "data": [
        {
         "alignmentgroup": "True",
         "base": [
          "2005-09-29T00:00:00",
          "2020-10-27T00:00:00",
          "2018-10-06T00:00:00",
          "2017-04-10T00:00:00",
          "1994-08-03T00:00:00",
          "2010-08-07T00:00:00",
          "2009-08-08T00:00:00",
          "2006-01-31T00:00:00",
          "1991-10-23T00:00:00",
          "1993-08-10T00:00:00",
          "1988-02-18T00:00:00",
          "1986-09-26T00:00:00",
          "1975-12-19T00:00:00",
          "1990-10-09T00:00:00",
          "1981-09-25T00:00:00",
          "1970-06-09T00:00:00",
          "1962-04-16T00:00:00",
          "1967-10-02T00:00:00",
          "1956-10-16T00:00:00",
          "1972-01-07T00:00:00",
          "1969-06-23T00:00:00",
          "1958-10-14T00:00:00",
          "1939-04-17T00:00:00",
          "1955-03-28T00:00:00",
          "1937-08-19T00:00:00",
          "1953-10-05T00:00:00",
          "1965-10-04T00:00:00",
          "1949-08-24T00:00:00",
          "1962-10-01T00:00:00",
          "1939-01-30T00:00:00",
          "1957-03-25T00:00:00",
          "1945-10-01T00:00:00",
          "1938-01-31T00:00:00",
          "1949-10-12T00:00:00",
          "1941-07-11T00:00:00",
          "1946-06-24T00:00:00",
          "1943-02-15T00:00:00",
          "1940-02-05T00:00:00",
          "1930-06-02T00:00:00",
          "1941-07-08T00:00:00",
          "1914-10-12T00:00:00",
          "1923-01-02T00:00:00",
          "1916-06-05T00:00:00",
          "1932-03-14T00:00:00",
          "1922-10-02T00:00:00",
          "1911-01-03T00:00:00",
          "1902-12-08T00:00:00",
          "1923-02-19T00:00:00",
          "1921-07-11T00:00:00",
          "1898-01-26T00:00:00",
          "1912-03-18T00:00:00",
          "1903-03-02T00:00:00",
          "1916-10-09T00:00:00",
          "1911-01-03T00:00:00",
          "1910-01-03T00:00:00",
          "1877-12-10T00:00:00",
          "1906-12-17T00:00:00",
          "1888-10-08T00:00:00",
          "1890-01-06T00:00:00",
          "1896-01-06T00:00:00",
          "1891-01-05T00:00:00",
          "1892-10-10T00:00:00",
          "1882-01-09T00:00:00",
          "1863-05-20T00:00:00",
          "1893-03-04T00:00:00",
          "1882-04-03T00:00:00",
          "1888-01-18T00:00:00",
          "1870-03-23T00:00:00",
          "1862-07-21T00:00:00",
          "1881-05-17T00:00:00",
          "1874-03-04T00:00:00",
          "1881-01-05T00:00:00",
          "1873-01-09T00:00:00",
          "1858-01-21T00:00:00",
          "1862-01-27T00:00:00",
          "1870-03-14T00:00:00",
          "1862-12-10T00:00:00",
          "1864-12-15T00:00:00",
          "1845-02-27T00:00:00",
          "1846-08-10T00:00:00",
          "1835-01-14T00:00:00",
          "1837-05-01T00:00:00",
          "1836-03-28T00:00:00",
          "1853-04-11T00:00:00",
          "1829-03-12T00:00:00",
          "1842-01-10T00:00:00",
          "1851-10-10T00:00:00",
          "1838-01-09T00:00:00",
          "1845-09-23T00:00:00",
          "1812-02-03T00:00:00",
          "1830-01-18T00:00:00",
          "1823-09-01T00:00:00",
          "1836-05-12T00:00:00",
          "1801-02-04T00:00:00",
          "1811-11-23T00:00:00",
          "1804-05-07T00:00:00",
          "1798-11-09T00:00:00",
          "1826-06-16T00:00:00",
          "1807-05-04T00:00:00",
          "1807-01-20T00:00:00",
          "1796-02-04T00:00:00",
          "1790-02-02T00:00:00",
          "1793-03-11T00:00:00",
          "1800-04-21T00:00:00",
          "1796-03-08T00:00:00",
          "1790-05-12T00:00:00",
          "1789-10-05T00:00:00",
          "1790-02-02T00:00:00",
          "1789-10-19T00:00:00",
          "1791-09-19T00:00:00"
         ],
         "hovertemplate": "task=term<br>start_date=%{base}<br>end_date=%{x}<br>Justice=%{y}<extra></extra>",
         "legendgroup": "term",
         "marker": {
          "color": "rgb(0, 0, 255)",
          "pattern": {
           "shape": ""
          }
         },
         "name": "term",
         "offsetgroup": "term",
         "orientation": "h",
         "showlegend": true,
         "textposition": "auto",
         "type": "bar",
         "x": [
          528508800000,
          52704000000,
          117676800000,
          164678400000,
          880588800000,
          375321600000,
          406771200000,
          517795200000,
          968284800000,
          855446400000,
          960854400000,
          927244800000,
          1089590400000,
          590803200000,
          768441600000,
          762134400000,
          984614400000,
          757296000000,
          1065312000000,
          488073600000,
          544665600000,
          716947200000,
          1154131200000,
          520387200000,
          1075420800000,
          495936000000,
          113875200000,
          561686400000,
          88819200000,
          743990400000,
          158284800000,
          411264000000,
          601776000000,
          221184000000,
          418003200000,
          227491200000,
          207273600000,
          298252800000,
          478483200000,
          39052800000,
          830131200000,
          532396800000,
          716083200000,
          199411200000,
          482630400000,
          833500800000,
          918172800000,
          222393600000,
          270345600000,
          850176000000,
          340416000000,
          621734400000,
          187488000000,
          157680000000,
          142646400000,
          1067904000000,
          123897600000,
          685843200000,
          638064000000,
          435369600000,
          485654400000,
          327196800000,
          652579200000,
          1089849600000,
          76636800000,
          355363200000,
          158284800000,
          689040000000,
          890870400000,
          247622400000,
          443491200000,
          200448000000,
          285552000000,
          741830400000,
          599356800000,
          339379200000,
          449107200000,
          264816000000,
          875750400000,
          740880000000,
          1024704000000,
          886118400000,
          900720000000,
          254102400000,
          1011830400000,
          580262400000,
          188524800000,
          458352000000,
          187660800000,
          1060387200000,
          449884800000,
          640483200000,
          151200000000,
          1086048000000,
          730339200000,
          954374400000,
          979689600000,
          69206400000,
          592185600000,
          509846400000,
          484963200000,
          650332800000,
          425865600000,
          118800000000,
          150508800000,
          297907200000,
          280108800000,
          180662400000,
          179625600000,
          41904000000
         ],
         "xaxis": "x",
         "y": [
          "John Roberts (CJ)",
          "Amy Coney Barrett",
          "Brett Kavanaugh",
          "Neil Gorsuch",
          "Stephen Breyer",
          "Elena Kagan",
          "Sonia Sotomayor",
          "Samuel Alito",
          "Clarence Thomas",
          "Ruth Bader Ginsburg",
          "Anthony Kennedy",
          "Antonin Scalia",
          "John Paul Stevens",
          "David Souter",
          "Sandra Day O'Connor",
          "Harry Blackmun",
          "Byron White",
          "Thurgood Marshall",
          "William J. Brennan Jr.",
          "Lewis Franklin Powell",
          "Warren E. Burger (CJ)",
          "Potter Stewart",
          "William O. Douglas",
          "John Marshall Harlan II",
          "Hugo Black",
          "Earl Warren (CJ)",
          "Abe Fortas",
          "Tom C. Clark",
          "Arthur Goldberg",
          "Felix Frankfurter",
          "Charles Evans Whittaker",
          "Harold Hitz Burton",
          "Stanley Forman Reed",
          "Sherman Minton",
          "Robert H. Jackson",
          "Fred M. Vinson (CJ)",
          "Wiley Blount Rutledge",
          "Frank Murphy",
          "Owen Roberts",
          "James F. Byrnes",
          "James Clark McReynolds",
          "Pierce Butler",
          "Louis Brandeis",
          "Benjamin N. Cardozo",
          "George Sutherland",
          "Willis Van Devanter",
          "Oliver Wendell Holmes",
          "Edward Terry Sanford",
          "William Howard Taft (CJ)",
          "Joseph McKenna",
          "Mahlon Pitney",
          "William R. Day",
          "John Hessin Clarke",
          "Joseph Rucker Lamar",
          "Horace Harmon Lurton",
          "John Marshall Harlan",
          "William Henry Moody",
          "Melville Fuller (CJ)",
          "David Josiah Brewer",
          "Rufus W. Peckham",
          "Henry Billings Brown",
          "George Shiras Jr.",
          "Horace Gray",
          "Stephen Johnson Field",
          "Howell Edmunds Jackson",
          "Samuel Blatchford",
          "Lucius Quintus Cincinnatus Lamar",
          "Joseph P. Bradley",
          "Samuel Freeman Miller",
          "Stanley Matthews",
          "Morrison Waite (CJ)",
          "William Burnham Woods",
          "Ward Hunt",
          "Nathan Clifford",
          "Noah Haynes Swayne",
          "William Strong",
          "David Davis",
          "Salmon P. Chase (CJ)",
          "Samuel Nelson",
          "Robert Cooper Grier",
          "James Moore Wayne",
          "John Catron",
          "Roger B. Taney (CJ)",
          "John Archibald Campbell",
          "John McLean",
          "Peter V. Daniel",
          "Benjamin Robbins Curtis",
          "John McKinley",
          "Levi Woodbury",
          "Joseph Story",
          "Henry Baldwin",
          "Smith Thompson",
          "Philip P. Barbour",
          "John Marshall (CJ)",
          "Gabriel Duvall",
          "William Johnson",
          "Bushrod Washington",
          "Robert Trimble",
          "Thomas Todd",
          "Henry Brockholst Livingston",
          "Samuel Chase",
          "William Cushing",
          "William Paterson",
          "Alfred Moore",
          "Oliver Ellsworth (CJ)",
          "James Iredell",
          "James Wilson",
          "John Blair",
          "John Jay (CJ)",
          "Thomas Johnson"
         ],
         "yaxis": "y"
        },
        {
         "alignmentgroup": "True",
         "base": [
          "1955-01-27T00:00:00",
          "1972-01-28T00:00:00",
          "1965-02-12T00:00:00",
          "1967-08-29T00:00:00",
          "1938-08-15T00:00:00",
          "1960-04-28T00:00:00",
          "1954-06-25T00:00:00",
          "1950-04-01T00:00:00",
          "1948-06-23T00:00:00",
          "1933-03-15T00:00:00",
          "1920-04-20T00:00:00",
          "1936-03-11T00:00:00",
          "1917-06-08T00:00:00",
          "1908-11-12T00:00:00",
          "1907-09-19T00:00:00",
          "1906-04-25T00:00:00",
          "1907-09-17T00:00:00",
          "1908-07-02T00:00:00",
          "1908-08-08T00:00:00",
          "1915-01-23T00:00:00",
          "1910-06-19T00:00:00",
          "1884-12-31T00:00:00",
          "1898-10-16T00:00:00",
          "1899-09-23T00:00:00",
          "1891-03-19T00:00:00",
          "1882-05-02T00:00:00",
          "1899-05-20T00:00:00",
          "1886-02-27T00:00:00",
          "1890-10-20T00:00:00",
          "1882-11-15T00:00:00",
          "1888-06-22T00:00:00",
          "1875-05-02T00:00:00",
          "1892-02-13T00:00:00",
          "1890-01-22T00:00:00",
          "1890-04-13T00:00:00",
          "1862-02-03T00:00:00",
          "1857-09-18T00:00:00",
          "1862-03-25T00:00:00",
          "1856-11-13T00:00:00",
          "1859-04-17T00:00:00",
          "1866-03-17T00:00:00",
          "1870-05-24T00:00:00",
          "1841-03-08T00:00:00",
          "1865-07-23T00:00:00",
          "1857-09-15T00:00:00",
          "1843-08-10T00:00:00",
          "1858-02-05T00:00:00",
          "1832-01-26T00:00:00",
          "1849-04-17T00:00:00",
          "1853-12-23T00:00:00",
          "1857-10-14T00:00:00",
          "1844-02-26T00:00:00",
          "1836-03-02T00:00:00",
          "1833-06-01T00:00:00",
          "1833-02-11T00:00:00",
          "1838-11-08T00:00:00",
          "1828-03-24T00:00:00",
          "1816-11-04T00:00:00",
          "1808-05-06T00:00:00",
          "1832-04-08T00:00:00",
          "1820-03-09T00:00:00",
          "1825-09-17T00:00:00",
          "1813-03-14T00:00:00",
          "1816-04-05T00:00:00",
          "1824-07-21T00:00:00",
          "1811-06-24T00:00:00",
          "1816-11-29T00:00:00",
          "1824-08-03T00:00:00",
          "1815-03-09T00:00:00",
          "1810-06-14T00:00:00",
          "1804-12-07T00:00:00",
          "1803-08-18T00:00:00",
          "1809-11-04T00:00:00",
          "1792-11-10T00:00:00",
          "1808-01-13T00:00:00",
          "1794-03-05T00:00:00",
          "1786-01-07T00:00:00",
          "1777-03-17T00:00:00",
          "1785-03-11T00:00:00",
          "1784-04-24T00:00:00",
          "1780-05-01T00:00:00",
          "1789-12-22T00:00:00",
          "1779-09-18T00:00:00",
          "1780-01-14T00:00:00",
          "1752-12-06T00:00:00",
          "1768-01-17T00:00:00",
          "1783-05-25T00:00:00",
          "1755-09-24T00:00:00",
          "1771-12-27T00:00:00",
          "1762-06-05T00:00:00",
          "1745-12-12T00:00:00",
          "1776-11-17T00:00:00",
          "1765-01-23T00:00:00",
          "1757-11-25T00:00:00",
          "1732-11-04T00:00:00",
          "1741-04-17T00:00:00",
          "1755-05-21T00:00:00",
          "1732-03-01T00:00:00",
          "1745-04-29T00:00:00",
          "1745-12-24T00:00:00",
          "1732-04-17T00:00:00",
          "1751-10-05T00:00:00"
         ],
         "hovertemplate": "task=life<br>start_date=%{base}<br>end_date=%{x}<br>Justice=%{y}<extra></extra>",
         "legendgroup": "life",
         "marker": {
          "color": "rgb(255, 0, 0)",
          "pattern": {
           "shape": ""
          }
         },
         "name": "life",
         "offsetgroup": "life",
         "orientation": "h",
         "showlegend": true,
         "textposition": "auto",
         "type": "bar",
         "width": 0.35,
         "x": [
          2127600000000,
          1591056000000,
          1810598400000,
          1730419200000,
          2646777600000,
          1961884800000,
          2146262400000,
          2279836800000,
          2335737600000,
          2761689600000,
          3131654400000,
          2522275200000,
          2677708800000,
          2849817600000,
          2869603200000,
          2879539200000,
          2769811200000,
          2668636800000,
          2570313600000,
          2236550400000,
          2265667200000,
          3005856000000,
          2564265600000,
          2452636800000,
          2628892800000,
          2838153600000,
          2291328000000,
          2700432000000,
          2349993600000,
          2596233600000,
          2409350400000,
          2525817600000,
          1977091200000,
          2007849600000,
          1870214400000,
          2668204800000,
          2761430400000,
          2534457600000,
          2678918400000,
          2581804800000,
          2324678400000,
          2149804800000,
          2966112000000,
          2039299200000,
          2287094400000,
          2628115200000,
          2109283200000,
          2919542400000,
          2342304000000,
          2004566400000,
          1837123200000,
          2220739200000,
          2445897600000,
          2473027200000,
          2442182400000,
          2239228800000,
          2350252800000,
          2601158400000,
          2754518400000,
          1998604800000,
          2314051200000,
          2125440000000,
          2488579200000,
          2351721600000,
          2040768000000,
          2452550400000,
          2250460800000,
          1981065600000,
          2250028800000,
          2391292800000,
          2508883200000,
          2459462400000,
          2046902400000,
          2558908800000,
          2061158400000,
          2415916800000,
          2505340800000,
          2763504000000,
          2400364800000,
          2401488000000,
          2278886400000,
          1947024000000,
          2082067200000,
          2028067200000,
          2879452800000,
          2395699200000,
          1822608000000,
          2517609600000,
          1975536000000,
          2129328000000,
          2632694400000,
          1633651200000,
          1926201600000,
          2060899200000,
          2744582400000,
          2214345600000,
          1748304000000,
          2478297600000,
          1974672000000,
          1915747200000,
          2157580800000,
          1516060800000
         ],
         "xaxis": "x",
         "y": [
          "John Roberts (CJ)",
          "Amy Coney Barrett",
          "Brett Kavanaugh",
          "Neil Gorsuch",
          "Stephen Breyer",
          "Elena Kagan",
          "Sonia Sotomayor",
          "Samuel Alito",
          "Clarence Thomas",
          "Ruth Bader Ginsburg",
          "John Paul Stevens",
          "Antonin Scalia",
          "Byron White",
          "Harry Blackmun",
          "Lewis Franklin Powell",
          "William J. Brennan Jr.",
          "Warren E. Burger (CJ)",
          "Thurgood Marshall",
          "Arthur Goldberg",
          "Potter Stewart",
          "Abe Fortas",
          "Stanley Forman Reed",
          "William O. Douglas",
          "Tom C. Clark",
          "Earl Warren (CJ)",
          "James F. Byrnes",
          "John Marshall Harlan II",
          "Hugo Black",
          "Sherman Minton",
          "Felix Frankfurter",
          "Harold Hitz Burton",
          "Owen Roberts",
          "Robert H. Jackson",
          "Fred M. Vinson (CJ)",
          "Frank Murphy",
          "James Clark McReynolds",
          "John Hessin Clarke",
          "George Sutherland",
          "Louis Brandeis",
          "Willis Van Devanter",
          "Pierce Butler",
          "Benjamin N. Cardozo",
          "Oliver Wendell Holmes",
          "Edward Terry Sanford",
          "William Howard Taft (CJ)",
          "Joseph McKenna",
          "Mahlon Pitney",
          "George Shiras Jr.",
          "William R. Day",
          "William Henry Moody",
          "Joseph Rucker Lamar",
          "Horace Harmon Lurton",
          "Henry Billings Brown",
          "John Marshall Harlan",
          "Melville Fuller (CJ)",
          "Rufus W. Peckham",
          "Horace Gray",
          "Stephen Johnson Field",
          "William Strong",
          "Howell Edmunds Jackson",
          "Samuel Blatchford",
          "Lucius Quintus Cincinnatus Lamar",
          "Joseph P. Bradley",
          "Samuel Freeman Miller",
          "Stanley Matthews",
          "John Archibald Campbell",
          "Morrison Waite (CJ)",
          "William Burnham Woods",
          "David Davis",
          "Ward Hunt",
          "Noah Haynes Swayne",
          "Nathan Clifford",
          "Benjamin Robbins Curtis",
          "Samuel Nelson",
          "Salmon P. Chase (CJ)",
          "Robert Cooper Grier",
          "John Catron",
          "Roger B. Taney (CJ)",
          "John McLean",
          "Peter V. Daniel",
          "John McKinley",
          "Levi Woodbury",
          "Joseph Story",
          "Henry Baldwin",
          "Gabriel Duvall",
          "Smith Thompson",
          "Philip P. Barbour",
          "John Marshall (CJ)",
          "William Johnson",
          "Bushrod Washington",
          "John Jay (CJ)",
          "Robert Trimble",
          "Thomas Todd",
          "Henry Brockholst Livingston",
          "Thomas Johnson",
          "Samuel Chase",
          "Alfred Moore",
          "William Cushing",
          "Oliver Ellsworth (CJ)",
          "William Paterson",
          "John Blair",
          "James Iredell"
         ],
         "yaxis": "y"
        }
       ],
       "layout": {
        "barmode": "overlay",
        "height": 3200,
        "legend": {
         "title": {
          "text": "task"
         },
         "tracegroupgap": 0
        },
        "margin": {
         "t": 60
        },
        "template": {
         "data": {
          "bar": [
           {
            "error_x": {
             "color": "#2a3f5f"
            },
            "error_y": {
             "color": "#2a3f5f"
            },
            "marker": {
             "line": {
              "color": "#E5ECF6",
              "width": 0.5
             },
             "pattern": {
              "fillmode": "overlay",
              "size": 10,
              "solidity": 0.2
             }
            },
            "type": "bar"
           }
          ],
          "barpolar": [
           {
            "marker": {
             "line": {
              "color": "#E5ECF6",
              "width": 0.5
             },
             "pattern": {
              "fillmode": "overlay",
              "size": 10,
              "solidity": 0.2
             }
            },
            "type": "barpolar"
           }
          ],
          "carpet": [
           {
            "aaxis": {
             "endlinecolor": "#2a3f5f",
             "gridcolor": "white",
             "linecolor": "white",
             "minorgridcolor": "white",
             "startlinecolor": "#2a3f5f"
            },
            "baxis": {
             "endlinecolor": "#2a3f5f",
             "gridcolor": "white",
             "linecolor": "white",
             "minorgridcolor": "white",
             "startlinecolor": "#2a3f5f"
            },
            "type": "carpet"
           }
          ],
          "choropleth": [
           {
            "colorbar": {
             "outlinewidth": 0,
             "ticks": ""
            },
            "type": "choropleth"
           }
          ],
          "contour": [
           {
            "colorbar": {
             "outlinewidth": 0,
             "ticks": ""
            },
            "colorscale": [
             [
              0,
              "#0d0887"
             ],
             [
              0.1111111111111111,
              "#46039f"
             ],
             [
              0.2222222222222222,
              "#7201a8"
             ],
             [
              0.3333333333333333,
              "#9c179e"
             ],
             [
              0.4444444444444444,
              "#bd3786"
             ],
             [
              0.5555555555555556,
              "#d8576b"
             ],
             [
              0.6666666666666666,
              "#ed7953"
             ],
             [
              0.7777777777777778,
              "#fb9f3a"
             ],
             [
              0.8888888888888888,
              "#fdca26"
             ],
             [
              1,
              "#f0f921"
             ]
            ],
            "type": "contour"
           }
          ],
          "contourcarpet": [
           {
            "colorbar": {
             "outlinewidth": 0,
             "ticks": ""
            },
            "type": "contourcarpet"
           }
          ],
          "heatmap": [
           {
            "colorbar": {
             "outlinewidth": 0,
             "ticks": ""
            },
            "colorscale": [
             [
              0,
              "#0d0887"
             ],
             [
              0.1111111111111111,
              "#46039f"
             ],
             [
              0.2222222222222222,
              "#7201a8"
             ],
             [
              0.3333333333333333,
              "#9c179e"
             ],
             [
              0.4444444444444444,
              "#bd3786"
             ],
             [
              0.5555555555555556,
              "#d8576b"
             ],
             [
              0.6666666666666666,
              "#ed7953"
             ],
             [
              0.7777777777777778,
              "#fb9f3a"
             ],
             [
              0.8888888888888888,
              "#fdca26"
             ],
             [
              1,
              "#f0f921"
             ]
            ],
            "type": "heatmap"
           }
          ],
          "heatmapgl": [
           {
            "colorbar": {
             "outlinewidth": 0,
             "ticks": ""
            },
            "colorscale": [
             [
              0,
              "#0d0887"
             ],
             [
              0.1111111111111111,
              "#46039f"
             ],
             [
              0.2222222222222222,
              "#7201a8"
             ],
             [
              0.3333333333333333,
              "#9c179e"
             ],
             [
              0.4444444444444444,
              "#bd3786"
             ],
             [
              0.5555555555555556,
              "#d8576b"
             ],
             [
              0.6666666666666666,
              "#ed7953"
             ],
             [
              0.7777777777777778,
              "#fb9f3a"
             ],
             [
              0.8888888888888888,
              "#fdca26"
             ],
             [
              1,
              "#f0f921"
             ]
            ],
            "type": "heatmapgl"
           }
          ],
          "histogram": [
           {
            "marker": {
             "pattern": {
              "fillmode": "overlay",
              "size": 10,
              "solidity": 0.2
             }
            },
            "type": "histogram"
           }
          ],
          "histogram2d": [
           {
            "colorbar": {
             "outlinewidth": 0,
             "ticks": ""
            },
            "colorscale": [
             [
              0,
              "#0d0887"
             ],
             [
              0.1111111111111111,
              "#46039f"
             ],
             [
              0.2222222222222222,
              "#7201a8"
             ],
             [
              0.3333333333333333,
              "#9c179e"
             ],
             [
              0.4444444444444444,
              "#bd3786"
             ],
             [
              0.5555555555555556,
              "#d8576b"
             ],
             [
              0.6666666666666666,
              "#ed7953"
             ],
             [
              0.7777777777777778,
              "#fb9f3a"
             ],
             [
              0.8888888888888888,
              "#fdca26"
             ],
             [
              1,
              "#f0f921"
             ]
            ],
            "type": "histogram2d"
           }
          ],
          "histogram2dcontour": [
           {
            "colorbar": {
             "outlinewidth": 0,
             "ticks": ""
            },
            "colorscale": [
             [
              0,
              "#0d0887"
             ],
             [
              0.1111111111111111,
              "#46039f"
             ],
             [
              0.2222222222222222,
              "#7201a8"
             ],
             [
              0.3333333333333333,
              "#9c179e"
             ],
             [
              0.4444444444444444,
              "#bd3786"
             ],
             [
              0.5555555555555556,
              "#d8576b"
             ],
             [
              0.6666666666666666,
              "#ed7953"
             ],
             [
              0.7777777777777778,
              "#fb9f3a"
             ],
             [
              0.8888888888888888,
              "#fdca26"
             ],
             [
              1,
              "#f0f921"
             ]
            ],
            "type": "histogram2dcontour"
           }
          ],
          "mesh3d": [
           {
            "colorbar": {
             "outlinewidth": 0,
             "ticks": ""
            },
            "type": "mesh3d"
           }
          ],
          "parcoords": [
           {
            "line": {
             "colorbar": {
              "outlinewidth": 0,
              "ticks": ""
             }
            },
            "type": "parcoords"
           }
          ],
          "pie": [
           {
            "automargin": true,
            "type": "pie"
           }
          ],
          "scatter": [
           {
            "fillpattern": {
             "fillmode": "overlay",
             "size": 10,
             "solidity": 0.2
            },
            "type": "scatter"
           }
          ],
          "scatter3d": [
           {
            "line": {
             "colorbar": {
              "outlinewidth": 0,
              "ticks": ""
             }
            },
            "marker": {
             "colorbar": {
              "outlinewidth": 0,
              "ticks": ""
             }
            },
            "type": "scatter3d"
           }
          ],
          "scattercarpet": [
           {
            "marker": {
             "colorbar": {
              "outlinewidth": 0,
              "ticks": ""
             }
            },
            "type": "scattercarpet"
           }
          ],
          "scattergeo": [
           {
            "marker": {
             "colorbar": {
              "outlinewidth": 0,
              "ticks": ""
             }
            },
            "type": "scattergeo"
           }
          ],
          "scattergl": [
           {
            "marker": {
             "colorbar": {
              "outlinewidth": 0,
              "ticks": ""
             }
            },
            "type": "scattergl"
           }
          ],
          "scattermapbox": [
           {
            "marker": {
             "colorbar": {
              "outlinewidth": 0,
              "ticks": ""
             }
            },
            "type": "scattermapbox"
           }
          ],
          "scatterpolar": [
           {
            "marker": {
             "colorbar": {
              "outlinewidth": 0,
              "ticks": ""
             }
            },
            "type": "scatterpolar"
           }
          ],
          "scatterpolargl": [
           {
            "marker": {
             "colorbar": {
              "outlinewidth": 0,
              "ticks": ""
             }
            },
            "type": "scatterpolargl"
           }
          ],
          "scatterternary": [
           {
            "marker": {
             "colorbar": {
              "outlinewidth": 0,
              "ticks": ""
             }
            },
            "type": "scatterternary"
           }
          ],
          "surface": [
           {
            "colorbar": {
             "outlinewidth": 0,
             "ticks": ""
            },
            "colorscale": [
             [
              0,
              "#0d0887"
             ],
             [
              0.1111111111111111,
              "#46039f"
             ],
             [
              0.2222222222222222,
              "#7201a8"
             ],
             [
              0.3333333333333333,
              "#9c179e"
             ],
             [
              0.4444444444444444,
              "#bd3786"
             ],
             [
              0.5555555555555556,
              "#d8576b"
             ],
             [
              0.6666666666666666,
              "#ed7953"
             ],
             [
              0.7777777777777778,
              "#fb9f3a"
             ],
             [
              0.8888888888888888,
              "#fdca26"
             ],
             [
              1,
              "#f0f921"
             ]
            ],
            "type": "surface"
           }
          ],
          "table": [
           {
            "cells": {
             "fill": {
              "color": "#EBF0F8"
             },
             "line": {
              "color": "white"
             }
            },
            "header": {
             "fill": {
              "color": "#C8D4E3"
             },
             "line": {
              "color": "white"
             }
            },
            "type": "table"
           }
          ]
         },
         "layout": {
          "annotationdefaults": {
           "arrowcolor": "#2a3f5f",
           "arrowhead": 0,
           "arrowwidth": 1
          },
          "autotypenumbers": "strict",
          "coloraxis": {
           "colorbar": {
            "outlinewidth": 0,
            "ticks": ""
           }
          },
          "colorscale": {
           "diverging": [
            [
             0,
             "#8e0152"
            ],
            [
             0.1,
             "#c51b7d"
            ],
            [
             0.2,
             "#de77ae"
            ],
            [
             0.3,
             "#f1b6da"
            ],
            [
             0.4,
             "#fde0ef"
            ],
            [
             0.5,
             "#f7f7f7"
            ],
            [
             0.6,
             "#e6f5d0"
            ],
            [
             0.7,
             "#b8e186"
            ],
            [
             0.8,
             "#7fbc41"
            ],
            [
             0.9,
             "#4d9221"
            ],
            [
             1,
             "#276419"
            ]
           ],
           "sequential": [
            [
             0,
             "#0d0887"
            ],
            [
             0.1111111111111111,
             "#46039f"
            ],
            [
             0.2222222222222222,
             "#7201a8"
            ],
            [
             0.3333333333333333,
             "#9c179e"
            ],
            [
             0.4444444444444444,
             "#bd3786"
            ],
            [
             0.5555555555555556,
             "#d8576b"
            ],
            [
             0.6666666666666666,
             "#ed7953"
            ],
            [
             0.7777777777777778,
             "#fb9f3a"
            ],
            [
             0.8888888888888888,
             "#fdca26"
            ],
            [
             1,
             "#f0f921"
            ]
           ],
           "sequentialminus": [
            [
             0,
             "#0d0887"
            ],
            [
             0.1111111111111111,
             "#46039f"
            ],
            [
             0.2222222222222222,
             "#7201a8"
            ],
            [
             0.3333333333333333,
             "#9c179e"
            ],
            [
             0.4444444444444444,
             "#bd3786"
            ],
            [
             0.5555555555555556,
             "#d8576b"
            ],
            [
             0.6666666666666666,
             "#ed7953"
            ],
            [
             0.7777777777777778,
             "#fb9f3a"
            ],
            [
             0.8888888888888888,
             "#fdca26"
            ],
            [
             1,
             "#f0f921"
            ]
           ]
          },
          "colorway": [
           "#636efa",
           "#EF553B",
           "#00cc96",
           "#ab63fa",
           "#FFA15A",
           "#19d3f3",
           "#FF6692",
           "#B6E880",
           "#FF97FF",
           "#FECB52"
          ],
          "font": {
           "color": "#2a3f5f"
          },
          "geo": {
           "bgcolor": "white",
           "lakecolor": "white",
           "landcolor": "#E5ECF6",
           "showlakes": true,
           "showland": true,
           "subunitcolor": "white"
          },
          "hoverlabel": {
           "align": "left"
          },
          "hovermode": "closest",
          "mapbox": {
           "style": "light"
          },
          "paper_bgcolor": "white",
          "plot_bgcolor": "#E5ECF6",
          "polar": {
           "angularaxis": {
            "gridcolor": "white",
            "linecolor": "white",
            "ticks": ""
           },
           "bgcolor": "#E5ECF6",
           "radialaxis": {
            "gridcolor": "white",
            "linecolor": "white",
            "ticks": ""
           }
          },
          "scene": {
           "xaxis": {
            "backgroundcolor": "#E5ECF6",
            "gridcolor": "white",
            "gridwidth": 2,
            "linecolor": "white",
            "showbackground": true,
            "ticks": "",
            "zerolinecolor": "white"
           },
           "yaxis": {
            "backgroundcolor": "#E5ECF6",
            "gridcolor": "white",
            "gridwidth": 2,
            "linecolor": "white",
            "showbackground": true,
            "ticks": "",
            "zerolinecolor": "white"
           },
           "zaxis": {
            "backgroundcolor": "#E5ECF6",
            "gridcolor": "white",
            "gridwidth": 2,
            "linecolor": "white",
            "showbackground": true,
            "ticks": "",
            "zerolinecolor": "white"
           }
          },
          "shapedefaults": {
           "line": {
            "color": "#2a3f5f"
           }
          },
          "ternary": {
           "aaxis": {
            "gridcolor": "white",
            "linecolor": "white",
            "ticks": ""
           },
           "baxis": {
            "gridcolor": "white",
            "linecolor": "white",
            "ticks": ""
           },
           "bgcolor": "#E5ECF6",
           "caxis": {
            "gridcolor": "white",
            "linecolor": "white",
            "ticks": ""
           }
          },
          "title": {
           "x": 0.05
          },
          "xaxis": {
           "automargin": true,
           "gridcolor": "white",
           "linecolor": "white",
           "ticks": "",
           "title": {
            "standoff": 15
           },
           "zerolinecolor": "white",
           "zerolinewidth": 2
          },
          "yaxis": {
           "automargin": true,
           "gridcolor": "white",
           "linecolor": "white",
           "ticks": "",
           "title": {
            "standoff": 15
           },
           "zerolinecolor": "white",
           "zerolinewidth": 2
          }
         }
        },
        "width": 1200,
        "xaxis": {
         "anchor": "y",
         "domain": [
          0,
          1
         ],
         "type": "date"
        },
        "yaxis": {
         "anchor": "x",
         "domain": [
          0,
          1
         ],
         "title": {
          "text": "Justice"
         }
        }
       }
      }
     },
     "metadata": {},
     "output_type": "display_data"
    }
   ],
   "source": [
    "colors = {}\n",
    "colors['life'] =  'rgb(255, 0, 0)' #specify the color for the 'planned' schedule bars\n",
    "colors['term'] = 'rgb(0, 0, 255)'  #specify the color for the 'actual' schedule bars\n",
    "\n",
    "fig = px.timeline(\n",
    "    df, \n",
    "    x_start=\"start_date\", \n",
    "    x_end=\"end_date\", \n",
    "    y=\"Justice\",\n",
    "    color='task',\n",
    "    color_discrete_map = colors,\n",
    "    # hover_name=\"Task Description\"\n",
    "    width=1200, height=3200\n",
    "    )\n",
    "\n",
    "# fig.update_yaxes(autorange=\"reversed\")          #if not specified as 'reversed', the tasks will be listed from bottom up       \n",
    "fig.data[1].width=0.35 # update the width of the 'Actual' schedule bars (the second trace of the figure)\n",
    "fig.show()"
   ]
  }
 ],
 "metadata": {
  "kernelspec": {
   "display_name": "Python 3.10.4 64-bit",
   "language": "python",
   "name": "python3"
  },
  "language_info": {
   "codemirror_mode": {
    "name": "ipython",
    "version": 3
   },
   "file_extension": ".py",
   "mimetype": "text/x-python",
   "name": "python",
   "nbconvert_exporter": "python",
   "pygments_lexer": "ipython3",
   "version": "3.10.4"
  },
  "orig_nbformat": 4,
  "vscode": {
   "interpreter": {
    "hash": "916dbcbb3f70747c44a77c7bcd40155683ae19c65e1c03b4aa3499c5328201f1"
   }
  }
 },
 "nbformat": 4,
 "nbformat_minor": 2
}
